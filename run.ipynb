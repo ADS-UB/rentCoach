{
 "cells": [
  {
   "cell_type": "code",
   "execution_count": 97,
   "metadata": {
    "collapsed": true
   },
   "outputs": [],
   "source": [
    "import pandas as pd\n",
    "import numpy as np\n",
    "import matplotlib.pyplot as plt"
   ]
  },
  {
   "cell_type": "code",
   "execution_count": 98,
   "metadata": {
    "collapsed": true
   },
   "outputs": [],
   "source": [
    "# load data\n",
    "data = pd.read_csv(\"update_rentdata_flo.csv\",sep=\",\", encoding=\"utf-8\")"
   ]
  },
  {
   "cell_type": "code",
   "execution_count": 99,
   "metadata": {
    "collapsed": true
   },
   "outputs": [],
   "source": [
    "# drop some features\n",
    "data = data.drop(['operation','address','country','distance','detailedType','suggestedTexts','parkingSpace'],axis=1)"
   ]
  },
  {
   "cell_type": "code",
   "execution_count": 100,
   "metadata": {
    "collapsed": false
   },
   "outputs": [],
   "source": [
    "# replace string by numbers in 'floor' column\n",
    "data['floor']=data['floor'].fillna(value='1000')\n",
    "data = data.replace(to_replace='bj', value='0', inplace=False, limit=None, regex=False, method='pad', axis=None)\n",
    "data = data.replace(to_replace='en', value='1', inplace=False, limit=None, regex=False, method='pad', axis=None)\n",
    "data = data.replace(to_replace='ss', value='-1', inplace=False, limit=None, regex=False, method='pad', axis=None)\n",
    "\n",
    "#Converting some selected features to float\n",
    "tofloat=['price','priceByArea','numPhotos','size','propertyCode','rooms']\n",
    "###To be used when the floor feature is only numeric:\n",
    "###tofloat=['price','priceByArea','numPhotos','size','propertyCode','rooms','floor']\n",
    "for col in tofloat:\n",
    "    data[col]=data[col].astype(float)\n",
    "\n",
    "#Converting some dummy features to 0 or 1\n",
    "    \n",
    "def truedummy(feature,df):\n",
    "    dummies_numpy = np.where(df[feature]==True,1,0)\n",
    "    df[feature]= dummies_numpy\n",
    "    \n",
    "to_zero_or_one=[\"exterior\",\"showAddress\",\"hasVideo\",\"newDevelopment\"]\n",
    "for col in to_zero_or_one:\n",
    "    truedummy(col,data)\n",
    "    ###For analytics purposes:\n",
    "    ###print col\n",
    "    ###print plt.hist(data[col], bins=[0,1,2])\n",
    "    ###plt.show()\n",
    "    \n",
    "to_zero_or_one_bis=[\"hasLift\",\"hasParkingSpace\",\"isParkingSpaceIncludedInPrice\"]\n",
    "for col in to_zero_or_one_bis:\n",
    "    data[col].replace(to_replace=True, value=1, inplace=True, method=None)\n",
    "    data[col].replace(to_replace=False, value=0, inplace=True, method=None)\n",
    "    data[col].replace(to_replace=np.NaN, value=0, inplace=True, method=None)\n",
    "\n",
    "#Take only municipality Barcelona\n",
    "data[data['municipality']=='Barcelona']\n",
    "\n",
    "#remove outliers price\n",
    "per=np.percentile(np.array(data['price']), [2.5, 97.5])\n",
    "data=data[data['price']>per[0]]\n",
    "data=data[data['price']<per[1]]\n"
   ]
  },
  {
   "cell_type": "code",
   "execution_count": 101,
   "metadata": {
    "collapsed": false
   },
   "outputs": [],
   "source": [
    "data.to_csv(\"version_nueva.csv\", encoding = \"utf-8\")"
   ]
  }
 ],
 "metadata": {
  "anaconda-cloud": {},
  "kernelspec": {
   "display_name": "Python [default]",
   "language": "python",
   "name": "python2"
  },
  "language_info": {
   "codemirror_mode": {
    "name": "ipython",
    "version": 2
   },
   "file_extension": ".py",
   "mimetype": "text/x-python",
   "name": "python",
   "nbconvert_exporter": "python",
   "pygments_lexer": "ipython2",
   "version": "2.7.12"
  }
 },
 "nbformat": 4,
 "nbformat_minor": 1
}
