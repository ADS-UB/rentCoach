{
 "cells": [
  {
   "cell_type": "code",
   "execution_count": 1,
   "metadata": {
    "collapsed": false
   },
   "outputs": [
    {
     "name": "stderr",
     "output_type": "stream",
     "text": [
      "/home/jps/anaconda/lib/python2.7/site-packages/sklearn/cross_validation.py:44: DeprecationWarning: This module was deprecated in version 0.18 in favor of the model_selection module into which all the refactored classes and functions are moved. Also note that the interface of the new CV iterators are different from that of this module. This module will be removed in 0.20.\n",
      "  \"This module will be removed in 0.20.\", DeprecationWarning)\n",
      "/home/jps/anaconda/lib/python2.7/site-packages/sklearn/grid_search.py:43: DeprecationWarning: This module was deprecated in version 0.18 in favor of the model_selection module into which all the refactored classes and functions are moved. This module will be removed in 0.20.\n",
      "  DeprecationWarning)\n"
     ]
    },
    {
     "data": {
      "text/plain": [
       "Index([u'rooms', u'bathrooms', u'exterior', u'hasLift', u'size', u'floor',\n",
       "       u'longitude', u'latitude', u'price', u'hasParkingSpace',\n",
       "       u'isParkingSpaceIncludedInPrice', u'priceperarea', u'type_chalet',\n",
       "       u'type_chalet_independantHouse', u'type_chalet_semidetachedHouse',\n",
       "       u'type_chalet_terracedHouse', u'type_flat', u'type_flat_duplex',\n",
       "       u'type_flat_penthouse', u'type_flat_studio', u'good', u'newdevelopment',\n",
       "       u'renew', u'Ciutat Vella', u'Eixample', u'Gràcia', u'Horta Guinardó',\n",
       "       u'Les Corts', u'Nou Barris', u'Sant Andreu', u'Sant Martí',\n",
       "       u'Sants-Montjuïc', u'Sarrià-Sant Gervasi'],\n",
       "      dtype='object')"
      ]
     },
     "execution_count": 1,
     "metadata": {},
     "output_type": "execute_result"
    }
   ],
   "source": [
    "import time\n",
    "import pandas as pd\n",
    "import numpy as np\n",
    "\n",
    "from sklearn.grid_search import GridSearchCV\n",
    "from sklearn.ensemble import RandomForestRegressor\n",
    "from sklearn.linear_model import LinearRegression\n",
    "from sklearn import metrics\n",
    "from sklearn.cross_validation import train_test_split\n",
    "\n",
    "\n",
    "data = pd.read_csv('version4_district.csv',encoding=\"utf-8\")\n",
    "\n",
    "#preu_park_noinclos\n",
    "#preu_park_noinclos=((data['hasParkingSpace']!=data['isParkingSpaceIncludedInPrice']).astype(float))\n",
    "#data=pd.concat((data,preu_park_noinclos),axis=1)\n",
    "#data.drop(\"isParkingSpaceIncludedInPrice\",axis=1)\n",
    "\n",
    "data.columns"
   ]
  },
  {
   "cell_type": "code",
   "execution_count": 2,
   "metadata": {
    "collapsed": false
   },
   "outputs": [
    {
     "data": {
      "text/plain": [
       "<matplotlib.axes._subplots.AxesSubplot at 0x7fb0b2d7dc90>"
      ]
     },
     "execution_count": 2,
     "metadata": {},
     "output_type": "execute_result"
    },
    {
     "data": {
      "image/png": "[encoded data removed]",
      "text/plain": [
       "<matplotlib.figure.Figure at 0x7fb0e81b2490>"
      ]
     },
     "metadata": {},
     "output_type": "display_data"
    }
   ],
   "source": [
    "%matplotlib inline\n",
    "data['price'].hist()"
   ]
  },
  {
   "cell_type": "code",
   "execution_count": 3,
   "metadata": {
    "collapsed": false
   },
   "outputs": [
    {
     "data": {
      "text/plain": [
       "<matplotlib.axes._subplots.AxesSubplot at 0x7fb0b0898110>"
      ]
     },
     "execution_count": 3,
     "metadata": {},
     "output_type": "execute_result"
    },
    {
     "data": {
      "image/png": "[encoded data removed]",
      "text/plain": [
       "<matplotlib.figure.Figure at 0x7fb0b4a1c950>"
      ]
     },
     "metadata": {},
     "output_type": "display_data"
    }
   ],
   "source": [
    "#Remove outliers\n",
    "\n",
    "\n",
    "per=np.percentile(np.array(data['price']), [2.5, 89])\n",
    "data=data[data['price']>per[0]]\n",
    "data=data[data['price']<per[1]]\n",
    "\n",
    "data['price'].hist()"
   ]
  },
  {
   "cell_type": "code",
   "execution_count": 4,
   "metadata": {
    "collapsed": true
   },
   "outputs": [],
   "source": [
    "y =data['price']\n",
    "X = data.drop(['price'], axis=1)\n",
    "X=np.array(X)\n",
    "y=np.array(y)\n",
    "\n",
    "X_train, X_test, y_train, y_test = train_test_split(X, y, test_size=0.2, random_state=4)"
   ]
  },
  {
   "cell_type": "code",
   "execution_count": 5,
   "metadata": {
    "collapsed": false
   },
   "outputs": [
    {
     "name": "stdout",
     "output_type": "stream",
     "text": [
      "\n",
      "Best parameters set found on training set:\n",
      "\n",
      "{'normalize': True}\n",
      "\n",
      "Mean Absolute Error:\n",
      "\n",
      "341.071641387\n",
      "\n",
      "The model is trained on the training set. The scores are computed on the testing set.\n"
     ]
    }
   ],
   "source": [
    "#Linear regression\n",
    "\n",
    "# Set the parameters by cross-validation\n",
    "#tuned_parameters = [{'bootstrap': [True, False],'criterion': [\"gini\", \"entropy\"],'n_estimators': [10, 50, 100, 200, 500]}]\n",
    "tuned_parameters = [{'normalize' : [True,False]}]\n",
    "#scores = ['precision', 'recall']\n",
    "\n",
    "#scores = ['precision']\n",
    "#scores = ['f1']\n",
    "\n",
    "#print \"Tuning hyper-parameters for %s\" % score\n",
    "print\n",
    "clf = GridSearchCV(LinearRegression(fit_intercept=True), tuned_parameters, cv=10, scoring='neg_mean_absolute_error')\n",
    "clf.fit(X_train, y_train)\n",
    "print \"Best parameters set found on training set:\"\n",
    "print\n",
    "print clf.best_params_ \n",
    "print\n",
    "y_true, y_pred = y_test, clf.predict(X_test)\n",
    "#y_true=y_true.astype('float64')\n",
    "#print \"Confusion matrix:\"\n",
    "#print\n",
    "#print confusion_matrix(y_true, y_pred)\n",
    "#print\n",
    "#print \"Classification report:\"\n",
    "#print classification_report(y_true, y_pred)\n",
    "print \"Mean Absolute Error:\"\n",
    "print\n",
    "print metrics.mean_absolute_error(y_true, y_pred)\n",
    "print\n",
    "print \"The model is trained on the training set. The scores are computed on the testing set.\"\n"
   ]
  },
  {
   "cell_type": "code",
   "execution_count": 6,
   "metadata": {
    "collapsed": false
   },
   "outputs": [
    {
     "name": "stdout",
     "output_type": "stream",
     "text": [
      "\n",
      "Best parameters set found on training set:\n",
      "\n",
      "{'max_features': 'sqrt', 'n_estimators': 200, 'bootstrap': False}\n",
      "\n",
      "Mean Absolute Error:\n",
      "\n",
      "240.328225894\n",
      "\n",
      "The model is trained on the training set. The scores are computed on the testing set.\n",
      "--- 551.07920289 seconds ---\n"
     ]
    }
   ],
   "source": [
    "#Random Forest Regressor\n",
    "#n_estimators estimate\n",
    "\n",
    "start_time = time.time()\n",
    "# Set the parameters by cross-validation\n",
    "#tuned_parameters = [{'bootstrap': [True, False],'criterion': [\"gini\", \"entropy\"],'n_estimators': [10, 50, 100, 200, 500]}]\n",
    "tuned_parameters = [{'bootstrap': [True, False],\n",
    "                     'n_estimators': [200, 500, 600, 750], 'max_features': [\"auto\", \"sqrt\", \"log2\"]}]\n",
    "#scores = ['precision', 'recall']\n",
    "\n",
    "#scores = ['precision']\n",
    "#scores = ['f1']\n",
    "\n",
    "#print \"Tuning hyper-parameters for %s\" % score\n",
    "print\n",
    "clf = GridSearchCV(RandomForestRegressor(n_estimators=10, random_state=44, n_jobs=-1), tuned_parameters, cv=10, \n",
    "                   scoring='neg_mean_absolute_error')\n",
    "clf.fit(X_train, y_train)\n",
    "print \"Best parameters set found on training set:\"\n",
    "print\n",
    "print clf.best_params_ \n",
    "print\n",
    "y_true, y_pred = y_test, clf.predict(X_test)\n",
    "#y_true=y_true.astype('float64')\n",
    "#print \"Confusion matrix:\"\n",
    "#print\n",
    "#print confusion_matrix(y_true, y_pred)\n",
    "#print\n",
    "#print \"Classification report:\"\n",
    "#print classification_report(y_true, y_pred)\n",
    "print \"Mean Absolute Error:\"\n",
    "print\n",
    "print metrics.mean_absolute_error(y_true, y_pred)\n",
    "print\n",
    "print \"The model is trained on the training set. The scores are computed on the testing set.\"\n",
    "print(\"--- %s seconds ---\" % (time.time() - start_time))"
   ]
  },
  {
   "cell_type": "code",
   "execution_count": null,
   "metadata": {
    "collapsed": false
   },
   "outputs": [],
   "source": [
    "#Random Forest Regressor\n",
    "#n_estimators estimate\n",
    "\n",
    "start_time = time.time()\n",
    "# Set the parameters by cross-validation\n",
    "#tuned_parameters = [{'bootstrap': [True, False],'criterion': [\"gini\", \"entropy\"],'n_estimators': [10, 50, 100, 200, 500]}]\n",
    "tuned_parameters = [{'bootstrap': [True, False],\n",
    "                     'n_estimators': [650, 700, 750, 800, 850], 'max_features': [\"auto\", \"sqrt\", \"log2\"]}]\n",
    "#scores = ['precision', 'recall']\n",
    "\n",
    "#scores = ['precision']\n",
    "#scores = ['f1']\n",
    "\n",
    "#print \"Tuning hyper-parameters for %s\" % score\n",
    "print\n",
    "clf = GridSearchCV(RandomForestRegressor(n_estimators=10, random_state=44, n_jobs=-1), tuned_parameters, cv=10, \n",
    "                   scoring='neg_mean_absolute_error')\n",
    "clf.fit(X_train, y_train)\n",
    "print \"Best parameters set found on training set:\"\n",
    "print\n",
    "print clf.best_params_ \n",
    "print\n",
    "y_true, y_pred = y_test, clf.predict(X_test)\n",
    "#y_true=y_true.astype('float64')\n",
    "#print \"Confusion matrix:\"\n",
    "#print\n",
    "#print confusion_matrix(y_true, y_pred)\n",
    "#print\n",
    "#print \"Classification report:\"\n",
    "#print classification_report(y_true, y_pred)\n",
    "print \"Mean Absolute Error:\"\n",
    "print\n",
    "print metrics.mean_absolute_error(y_true, y_pred)\n",
    "print\n",
    "print \"The model is trained on the training set. The scores are computed on the testing set.\"\n",
    "print(\"--- %s seconds ---\" % (time.time() - start_time))"
   ]
  },
  {
   "cell_type": "code",
   "execution_count": 13,
   "metadata": {
    "collapsed": false
   },
   "outputs": [],
   "source": [
    "#score with best parameters\n",
    "\n",
    "from sklearn.model_selection import cross_val_score\n",
    "clf = RandomForestRegressor(n_estimators=200, max_features='sqrt', bootstrap=False, random_state=44, n_jobs=-1)\n",
    "scores = cross_val_score(clf, X, y, cv=10, scoring='neg_mean_absolute_error', n_jobs=-1)"
   ]
  },
  {
   "cell_type": "code",
   "execution_count": 14,
   "metadata": {
    "collapsed": false
   },
   "outputs": [
    {
     "name": "stdout",
     "output_type": "stream",
     "text": [
      "[ 195.1076443   246.44106602  232.18440837  220.27098124  251.41179682\n",
      "  238.32560738  217.8990564   271.6196222   258.88861533  214.76674982]\n",
      "234.691554787\n",
      "22.0002597636\n"
     ]
    }
   ],
   "source": [
    "scores=np.abs(scores)\n",
    "print scores\n",
    "print np.mean(scores)\n",
    "print np.std(scores)"
   ]
  },
  {
   "cell_type": "code",
   "execution_count": 17,
   "metadata": {
    "collapsed": false
   },
   "outputs": [
    {
     "name": "stdout",
     "output_type": "stream",
     "text": [
      "(4614, 32)\n",
      "[  7.62400254e-02   1.20140771e-01   1.28915522e-02   1.92922974e-02\n",
      "   2.33541562e-01   5.94644856e-02   1.14397569e-01   1.37201279e-01\n",
      "   1.00411836e-02   9.41094177e-03   1.04990797e-01   1.52460262e-04\n",
      "   1.08597634e-03   3.40041436e-04   3.76063070e-04   7.55025296e-03\n",
      "   4.44203868e-03   5.45671438e-03   4.27123837e-03   2.00858590e-02\n",
      "   1.08193626e-04   1.20239994e-03   8.96356799e-03   1.07386623e-02\n",
      "   4.28531441e-03   6.31194332e-03   2.50165661e-03   1.65556658e-03\n",
      "   1.33509774e-03   4.47981252e-03   3.88441189e-03   1.31602646e-02]\n",
      "0.003125\n",
      "(4614, 23)\n",
      "Index([u'rooms', u'bathrooms', u'exterior', u'hasLift', u'size', u'floor',\n",
      "       u'longitude', u'latitude', u'price', u'hasParkingSpace',\n",
      "       u'isParkingSpaceIncludedInPrice', u'priceperarea', u'type_chalet',\n",
      "       u'type_chalet_independantHouse', u'type_chalet_semidetachedHouse',\n",
      "       u'type_chalet_terracedHouse', u'type_flat', u'type_flat_duplex',\n",
      "       u'type_flat_penthouse', u'type_flat_studio', u'good', u'newdevelopment',\n",
      "       u'renew', u'Ciutat Vella', u'Eixample', u'Gràcia', u'Horta Guinardó',\n",
      "       u'Les Corts', u'Nou Barris', u'Sant Andreu', u'Sant Martí',\n",
      "       u'Sants-Montjuïc', u'Sarrià-Sant Gervasi'],\n",
      "      dtype='object')\n"
     ]
    }
   ],
   "source": [
    "#ExtraTreesClassifier feature selection\n",
    "\n",
    "print X.shape\n",
    "\n",
    "from sklearn.feature_selection import SelectFromModel\n",
    "\n",
    "clf = RandomForestRegressor(n_estimators=200, max_features='sqrt', bootstrap=False, random_state=44, n_jobs=-1)\n",
    "clf = clf.fit(X, y)\n",
    "print clf.feature_importances_\n",
    "\n",
    "m=np.mean(clf.feature_importances_)\n",
    "print m*0.1\n",
    "model = SelectFromModel(clf, threshold=m*0.1, prefit=True)\n",
    "\n",
    "#model = SelectFromModel(clf, prefit=True)\n",
    "\n",
    "X_new = model.transform(X)\n",
    "print X_new.shape\n",
    "print data.columns"
   ]
  },
  {
   "cell_type": "code",
   "execution_count": 18,
   "metadata": {
    "collapsed": false
   },
   "outputs": [
    {
     "data": {
      "image/png": "[encoded data removed]",
      "text/plain": [
       "<matplotlib.figure.Figure at 0x7fb0b019da50>"
      ]
     },
     "metadata": {},
     "output_type": "display_data"
    }
   ],
   "source": [
    "%matplotlib inline\n",
    "import matplotlib.pyplot as plt\n",
    "ind = np.arange(X.shape[1]) \n",
    "plt.bar(ind, clf.feature_importances_)\n",
    "width = 0.55 \n",
    "plt.xticks(ind + width/2., (u'rooms', u'bathrooms', u'exterior', u'hasLift', u'size', u'floor',\n",
    "       u'longitude', u'latitude', u'hasParkingSpace',\n",
    "       u'isParkingSpaceIncludedInPrice', u'priceperarea', u'type_chalet',\n",
    "       u'type_chalet_independantHouse', u'type_chalet_semidetachedHouse',\n",
    "       u'type_chalet_terracedHouse', u'type_flat', u'type_flat_duplex',\n",
    "       u'type_flat_penthouse', u'type_flat_studio', u'good', u'newdevelopment',\n",
    "       u'renew', u'Ciutat Vella', u'Eixample', u'Gràcia', u'Horta Guinardó',\n",
    "       u'Les Corts', u'Nou Barris', u'Sant Andreu', u'Sant Martí',\n",
    "       u'Sants-Montjuïc', u'Sarrià-Sant Gervasi'), rotation='vertical')\n",
    "plt.show()"
   ]
  },
  {
   "cell_type": "markdown",
   "metadata": {},
   "source": [
    "# Gradient Boosting Regressor (no ejecutado)"
   ]
  },
  {
   "cell_type": "code",
   "execution_count": 10,
   "metadata": {
    "collapsed": true
   },
   "outputs": [],
   "source": [
    "#scaled\n",
    "\n",
    "from sklearn.preprocessing import StandardScaler\n",
    "\n",
    "X_scaler = StandardScaler()\n",
    "X_train = X_scaler.fit_transform(X_train)\n",
    "X_test = X_scaler.transform(X_test)\n",
    "\n",
    "#Tenemos que normalizar y??????"
   ]
  },
  {
   "cell_type": "code",
   "execution_count": 22,
   "metadata": {
    "collapsed": false
   },
   "outputs": [
    {
     "name": "stdout",
     "output_type": "stream",
     "text": [
      "Fitting 10 folds for each of 1200 candidates, totalling 12000 fits\n"
     ]
    },
    {
     "name": "stderr",
     "output_type": "stream",
     "text": [
      "[Parallel(n_jobs=-1)]: Done  52 tasks      | elapsed:    4.0s\n",
      "[Parallel(n_jobs=-1)]: Done 215 tasks      | elapsed:   18.7s\n",
      "[Parallel(n_jobs=-1)]: Done 465 tasks      | elapsed:   54.9s\n",
      "[Parallel(n_jobs=-1)]: Done 815 tasks      | elapsed:  2.4min\n",
      "[Parallel(n_jobs=-1)]: Done 1265 tasks      | elapsed:  3.8min\n",
      "[Parallel(n_jobs=-1)]: Done 1815 tasks      | elapsed:  5.6min\n",
      "[Parallel(n_jobs=-1)]: Done 2465 tasks      | elapsed:  8.9min\n",
      "[Parallel(n_jobs=-1)]: Done 3215 tasks      | elapsed: 11.2min\n",
      "[Parallel(n_jobs=-1)]: Done 4065 tasks      | elapsed: 13.8min\n",
      "[Parallel(n_jobs=-1)]: Done 5015 tasks      | elapsed: 17.7min\n",
      "[Parallel(n_jobs=-1)]: Done 6065 tasks      | elapsed: 22.3min\n",
      "[Parallel(n_jobs=-1)]: Done 7215 tasks      | elapsed: 25.5min\n",
      "[Parallel(n_jobs=-1)]: Done 8465 tasks      | elapsed: 31.0min\n",
      "[Parallel(n_jobs=-1)]: Done 9815 tasks      | elapsed: 35.6min\n",
      "[Parallel(n_jobs=-1)]: Done 11265 tasks      | elapsed: 41.6min\n",
      "[Parallel(n_jobs=-1)]: Done 12000 out of 12000 | elapsed: 44.4min finished\n"
     ]
    },
    {
     "name": "stdout",
     "output_type": "stream",
     "text": [
      "Best parameters set found on training set:\n",
      "\n",
      "{'max_features': 'sqrt', 'loss': 'huber', 'learning_rate': 0.1, 'n_estimators': 750, 'max_depth': 5}\n",
      "\n",
      "Mean Absolute Error:\n",
      "\n",
      "251.233762088\n",
      "\n",
      "The model is trained on the training set. The scores are computed on the testing set.\n",
      "--- 2665.17582607 seconds ---\n"
     ]
    }
   ],
   "source": [
    "from sklearn.ensemble import GradientBoostingRegressor\n",
    "#Gradient Boosting Regressor\n",
    "#n_estimators estimate\n",
    "\n",
    "start_time = time.time()\n",
    "# Set the parameters by cross-validation\n",
    "tuned_parameters = [{'n_estimators':[100, 200, 500, 600, 750], \n",
    "                     'learning_rate':[0.1,0.2,0.3,0.5],'max_depth':[1,2,3,4,5], \n",
    "                     'loss':['ls', 'lad', 'huber', 'quantile'], 'max_features':[\"auto\", \"sqrt\", \"log2\"]}]\n",
    "\n",
    "clf = GridSearchCV(GradientBoostingRegressor(criterion='friedman_mse', random_state=44), tuned_parameters, cv=10, \n",
    "                   scoring='neg_mean_absolute_error', n_jobs=-1, verbose=1)\n",
    "clf.fit(X_train, y_train)\n",
    "print \"Best parameters set found on training set:\"\n",
    "print\n",
    "print clf.best_params_ \n",
    "print\n",
    "y_true, y_pred = y_test, clf.predict(X_test)\n",
    "#y_true=y_true.astype('float64')\n",
    "#print \"Confusion matrix:\"\n",
    "#print\n",
    "#print confusion_matrix(y_true, y_pred)\n",
    "#print\n",
    "#print \"Classification report:\"\n",
    "#print classification_report(y_true, y_pred)\n",
    "print \"Mean Absolute Error:\"\n",
    "print\n",
    "print metrics.mean_absolute_error(y_true, y_pred)\n",
    "print\n",
    "print \"The model is trained on the training set. The scores are computed on the testing set.\"\n",
    "print(\"--- %s seconds ---\" % (time.time() - start_time))"
   ]
  },
  {
   "cell_type": "code",
   "execution_count": 23,
   "metadata": {
    "collapsed": false
   },
   "outputs": [],
   "source": [
    "#score with best parameters\n",
    "\n",
    "from sklearn.model_selection import cross_val_score\n",
    "clf = GradientBoostingRegressor(n_estimators=750,learning_rate=0.1, max_depth=5, loss='huber',\n",
    "                                max_features='sqrt', random_state=44)\n",
    "scores = cross_val_score(clf, X, y, cv=10, scoring='neg_mean_absolute_error', n_jobs=-1)"
   ]
  },
  {
   "cell_type": "code",
   "execution_count": 24,
   "metadata": {
    "collapsed": false
   },
   "outputs": [
    {
     "name": "stdout",
     "output_type": "stream",
     "text": [
      "[ 206.31053341  272.56325731  268.83152568  244.48669136  272.06948688\n",
      "  267.0919594   244.14311458  298.34532781  287.67843379  240.45890692]\n",
      "260.197923714\n",
      "25.3463695763\n"
     ]
    }
   ],
   "source": [
    "scores=np.abs(scores)\n",
    "print scores\n",
    "print np.mean(scores)\n",
    "print np.std(scores)"
   ]
  },
  {
   "cell_type": "code",
   "execution_count": 25,
   "metadata": {
    "collapsed": false,
    "scrolled": true
   },
   "outputs": [
    {
     "name": "stdout",
     "output_type": "stream",
     "text": [
      "Fitting 10 folds for each of 648 candidates, totalling 6480 fits\n"
     ]
    },
    {
     "name": "stderr",
     "output_type": "stream",
     "text": [
      "[Parallel(n_jobs=-1)]: Done  34 tasks      | elapsed:   27.6s\n",
      "[Parallel(n_jobs=-1)]: Done 184 tasks      | elapsed:  1.6min\n",
      "[Parallel(n_jobs=-1)]: Done 434 tasks      | elapsed:  5.0min\n",
      "[Parallel(n_jobs=-1)]: Done 784 tasks      | elapsed: 14.0min\n",
      "[Parallel(n_jobs=-1)]: Done 1234 tasks      | elapsed: 19.4min\n",
      "[Parallel(n_jobs=-1)]: Done 1784 tasks      | elapsed: 29.0min\n",
      "[Parallel(n_jobs=-1)]: Done 2434 tasks      | elapsed: 52.2min\n",
      "[Parallel(n_jobs=-1)]: Done 3184 tasks      | elapsed: 64.5min\n",
      "[Parallel(n_jobs=-1)]: Done 4034 tasks      | elapsed: 79.1min\n",
      "[Parallel(n_jobs=-1)]: Done 4984 tasks      | elapsed: 106.8min\n",
      "[Parallel(n_jobs=-1)]: Done 6034 tasks      | elapsed: 123.9min\n",
      "[Parallel(n_jobs=-1)]: Done 6480 out of 6480 | elapsed: 143.2min finished\n"
     ]
    },
    {
     "name": "stdout",
     "output_type": "stream",
     "text": [
      "Best parameters set found on training set:\n",
      "\n",
      "{'max_features': 'log2', 'loss': 'lad', 'learning_rate': 0.1, 'n_estimators': 750, 'max_depth': 11}\n",
      "\n",
      "Mean Absolute Error:\n",
      "\n",
      "252.178816469\n",
      "\n",
      "The model is trained on the training set. The scores are computed on the testing set.\n",
      "--- 8596.99742603 seconds ---\n"
     ]
    }
   ],
   "source": [
    "from sklearn.ensemble import GradientBoostingRegressor\n",
    "#Gradient Boosting Regressor\n",
    "#n_estimators estimate\n",
    "\n",
    "start_time = time.time()\n",
    "# Set the parameters by cross-validation\n",
    "tuned_parameters = [{'n_estimators':[700, 750, 800, 850], \n",
    "                     'learning_rate':[0.1,0.2,0.3],'max_depth':[4,5,6,7,9,11], \n",
    "                     'loss':['ls', 'lad', 'huber'], 'max_features':[\"auto\", \"sqrt\", \"log2\"]}]\n",
    "\n",
    "clf = GridSearchCV(GradientBoostingRegressor(criterion='friedman_mse', random_state=44), tuned_parameters, cv=10, \n",
    "                   scoring='neg_mean_absolute_error', n_jobs=-1, verbose=1)\n",
    "clf.fit(X_train, y_train)\n",
    "print \"Best parameters set found on training set:\"\n",
    "print\n",
    "print clf.best_params_ \n",
    "print\n",
    "y_true, y_pred = y_test, clf.predict(X_test)\n",
    "#y_true=y_true.astype('float64')\n",
    "#print \"Confusion matrix:\"\n",
    "#print\n",
    "#print confusion_matrix(y_true, y_pred)\n",
    "#print\n",
    "#print \"Classification report:\"\n",
    "#print classification_report(y_true, y_pred)\n",
    "print \"Mean Absolute Error:\"\n",
    "print\n",
    "print metrics.mean_absolute_error(y_true, y_pred)\n",
    "print\n",
    "print \"The model is trained on the training set. The scores are computed on the testing set.\"\n",
    "print(\"--- %s seconds ---\" % (time.time() - start_time))"
   ]
  },
  {
   "cell_type": "code",
   "execution_count": 26,
   "metadata": {
    "collapsed": true
   },
   "outputs": [],
   "source": [
    "#score with best parameters\n",
    "\n",
    "from sklearn.model_selection import cross_val_score\n",
    "clf = GradientBoostingRegressor(n_estimators=750,learning_rate=0.1, max_depth=11, loss='lad',\n",
    "                                max_features='log2', random_state=44)\n",
    "scores = cross_val_score(clf, X, y, cv=10, scoring='neg_mean_absolute_error', n_jobs=-1)"
   ]
  },
  {
   "cell_type": "code",
   "execution_count": 27,
   "metadata": {
    "collapsed": false
   },
   "outputs": [
    {
     "name": "stdout",
     "output_type": "stream",
     "text": [
      "[ 211.00114155  260.50452065  264.65932486  240.94345072  277.17581778\n",
      "  275.67717264  232.83151344  304.45158772  289.33842983  222.40172925]\n",
      "257.898468844\n",
      "28.7594609074\n"
     ]
    }
   ],
   "source": [
    "scores=np.abs(scores)\n",
    "print scores\n",
    "print np.mean(scores)\n",
    "print np.std(scores)"
   ]
  },
  {
   "cell_type": "code",
   "execution_count": null,
   "metadata": {
    "collapsed": true
   },
   "outputs": [],
   "source": []
  }
 ],
 "metadata": {
  "kernelspec": {
   "display_name": "Python 2",
   "language": "python",
   "name": "python2"
  },
  "language_info": {
   "codemirror_mode": {
    "name": "ipython",
    "version": 2
   },
   "file_extension": ".py",
   "mimetype": "text/x-python",
   "name": "python",
   "nbconvert_exporter": "python",
   "pygments_lexer": "ipython2",
   "version": "2.7.12"
  }
 },
 "nbformat": 4,
 "nbformat_minor": 1
}
