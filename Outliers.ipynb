{
 "cells": [
  {
   "cell_type": "code",
   "execution_count": 1,
   "metadata": {
    "collapsed": true
   },
   "outputs": [],
   "source": [
    "#first cleaning\n",
    "import numpy as np\n",
    "import re\n",
    "import pandas as pd\n",
    "data=pd.read_csv(\"update_rentdata_26102016.csv\",sep=\",\")\n",
    "\n",
    "data=data[data['propertyCode']!='propertyCode']\n",
    "# esto elimina los indices de las filas eliminadas--> hay que arreglarlo\n",
    "\n",
    "data = data.drop(['thumbnail', 'address','url','tenantGender','tenantNumber','isSmokingAllowed','distance'], axis=1)\n",
    "\n",
    "pattern='^\\d'\n",
    "data['floor']=data['floor'].fillna(value='1000')\n",
    "llista=[]\n",
    "for element in tuple(data['floor']):\n",
    "    f=bool(re.match(pattern,element))\n",
    "    if f==False:\n",
    "        llista=np.append(llista,element)\n",
    "#print llista\n",
    "for i in np.unique(llista):\n",
    "    data[data['floor']==i]='0'\n",
    "\n",
    "tofloat=['price','priceByArea','numPhotos','size','propertyCode','rooms','floor']\n",
    "for col in tofloat:\n",
    "    data[col]=data[col].astype(float)\n",
    "\n",
    "data[data['floor']==1000]=np.nan"
   ]
  },
  {
   "cell_type": "code",
   "execution_count": 2,
   "metadata": {
    "collapsed": false
   },
   "outputs": [
    {
     "data": {
      "text/plain": [
       "Index([u'propertyCode', u'numPhotos', u'floor', u'price', u'propertyType',\n",
       "       u'operation', u'size', u'exterior', u'rooms', u'bathrooms', u'province',\n",
       "       u'municipality', u'district', u'country', u'neighborhood', u'latitude',\n",
       "       u'longitude', u'showAddress', u'hasVideo', u'newDevelopment',\n",
       "       u'hasLift', u'priceByArea'],\n",
       "      dtype='object')"
      ]
     },
     "execution_count": 2,
     "metadata": {},
     "output_type": "execute_result"
    }
   ],
   "source": [
    "data.columns"
   ]
  },
  {
   "cell_type": "code",
   "execution_count": 3,
   "metadata": {
    "collapsed": false
   },
   "outputs": [
    {
     "data": {
      "text/html": [
       "<div>\n",
       "<table border=\"1\" class=\"dataframe\">\n",
       "  <thead>\n",
       "    <tr style=\"text-align: right;\">\n",
       "      <th></th>\n",
       "      <th>propertyCode</th>\n",
       "      <th>numPhotos</th>\n",
       "      <th>floor</th>\n",
       "      <th>price</th>\n",
       "      <th>propertyType</th>\n",
       "      <th>operation</th>\n",
       "      <th>size</th>\n",
       "      <th>exterior</th>\n",
       "      <th>rooms</th>\n",
       "      <th>bathrooms</th>\n",
       "      <th>...</th>\n",
       "      <th>district</th>\n",
       "      <th>country</th>\n",
       "      <th>neighborhood</th>\n",
       "      <th>latitude</th>\n",
       "      <th>longitude</th>\n",
       "      <th>showAddress</th>\n",
       "      <th>hasVideo</th>\n",
       "      <th>newDevelopment</th>\n",
       "      <th>hasLift</th>\n",
       "      <th>priceByArea</th>\n",
       "    </tr>\n",
       "  </thead>\n",
       "  <tbody>\n",
       "    <tr>\n",
       "      <th>0</th>\n",
       "      <td>34953639.0</td>\n",
       "      <td>29.0</td>\n",
       "      <td>2.0</td>\n",
       "      <td>3200.0</td>\n",
       "      <td>flat</td>\n",
       "      <td>rent</td>\n",
       "      <td>175.0</td>\n",
       "      <td>True</td>\n",
       "      <td>4.0</td>\n",
       "      <td>2</td>\n",
       "      <td>...</td>\n",
       "      <td>Sarrià-Sant Gervasi</td>\n",
       "      <td>es</td>\n",
       "      <td>Sant Gervasi - La Bonanova</td>\n",
       "      <td>41.4009887</td>\n",
       "      <td>2.1340728</td>\n",
       "      <td>False</td>\n",
       "      <td>True</td>\n",
       "      <td>False</td>\n",
       "      <td>True</td>\n",
       "      <td>18.0</td>\n",
       "    </tr>\n",
       "    <tr>\n",
       "      <th>1</th>\n",
       "      <td>34953490.0</td>\n",
       "      <td>6.0</td>\n",
       "      <td>3.0</td>\n",
       "      <td>900.0</td>\n",
       "      <td>flat</td>\n",
       "      <td>rent</td>\n",
       "      <td>68.0</td>\n",
       "      <td>True</td>\n",
       "      <td>2.0</td>\n",
       "      <td>1</td>\n",
       "      <td>...</td>\n",
       "      <td>Ciutat Vella</td>\n",
       "      <td>es</td>\n",
       "      <td>El Raval</td>\n",
       "      <td>41.3729812</td>\n",
       "      <td>2.1731278</td>\n",
       "      <td>False</td>\n",
       "      <td>False</td>\n",
       "      <td>False</td>\n",
       "      <td>True</td>\n",
       "      <td>13.0</td>\n",
       "    </tr>\n",
       "    <tr>\n",
       "      <th>2</th>\n",
       "      <td>0.0</td>\n",
       "      <td>0.0</td>\n",
       "      <td>0.0</td>\n",
       "      <td>0.0</td>\n",
       "      <td>0</td>\n",
       "      <td>0</td>\n",
       "      <td>0.0</td>\n",
       "      <td>0</td>\n",
       "      <td>0.0</td>\n",
       "      <td>0</td>\n",
       "      <td>...</td>\n",
       "      <td>0</td>\n",
       "      <td>0</td>\n",
       "      <td>0</td>\n",
       "      <td>0</td>\n",
       "      <td>0</td>\n",
       "      <td>0</td>\n",
       "      <td>0</td>\n",
       "      <td>0</td>\n",
       "      <td>0</td>\n",
       "      <td>0.0</td>\n",
       "    </tr>\n",
       "    <tr>\n",
       "      <th>3</th>\n",
       "      <td>34953399.0</td>\n",
       "      <td>10.0</td>\n",
       "      <td>5.0</td>\n",
       "      <td>440.0</td>\n",
       "      <td>flat</td>\n",
       "      <td>rent</td>\n",
       "      <td>60.0</td>\n",
       "      <td>True</td>\n",
       "      <td>3.0</td>\n",
       "      <td>1</td>\n",
       "      <td>...</td>\n",
       "      <td>NaN</td>\n",
       "      <td>es</td>\n",
       "      <td>NaN</td>\n",
       "      <td>41.4050826</td>\n",
       "      <td>2.0252306</td>\n",
       "      <td>True</td>\n",
       "      <td>False</td>\n",
       "      <td>False</td>\n",
       "      <td>True</td>\n",
       "      <td>7.0</td>\n",
       "    </tr>\n",
       "    <tr>\n",
       "      <th>4</th>\n",
       "      <td>34953388.0</td>\n",
       "      <td>6.0</td>\n",
       "      <td>3.0</td>\n",
       "      <td>900.0</td>\n",
       "      <td>flat</td>\n",
       "      <td>rent</td>\n",
       "      <td>68.0</td>\n",
       "      <td>True</td>\n",
       "      <td>2.0</td>\n",
       "      <td>1</td>\n",
       "      <td>...</td>\n",
       "      <td>Sants-Montjuïc</td>\n",
       "      <td>es</td>\n",
       "      <td>El Poble Sec - Parc de Montjuïc</td>\n",
       "      <td>41.372675</td>\n",
       "      <td>2.1702429</td>\n",
       "      <td>False</td>\n",
       "      <td>False</td>\n",
       "      <td>False</td>\n",
       "      <td>True</td>\n",
       "      <td>13.0</td>\n",
       "    </tr>\n",
       "  </tbody>\n",
       "</table>\n",
       "<p>5 rows × 22 columns</p>\n",
       "</div>"
      ],
      "text/plain": [
       "   propertyCode  numPhotos  floor   price propertyType operation   size  \\\n",
       "0    34953639.0       29.0    2.0  3200.0         flat      rent  175.0   \n",
       "1    34953490.0        6.0    3.0   900.0         flat      rent   68.0   \n",
       "2           0.0        0.0    0.0     0.0            0         0    0.0   \n",
       "3    34953399.0       10.0    5.0   440.0         flat      rent   60.0   \n",
       "4    34953388.0        6.0    3.0   900.0         flat      rent   68.0   \n",
       "\n",
       "  exterior  rooms bathrooms     ...                 district country  \\\n",
       "0     True    4.0         2     ...      Sarrià-Sant Gervasi      es   \n",
       "1     True    2.0         1     ...             Ciutat Vella      es   \n",
       "2        0    0.0         0     ...                        0       0   \n",
       "3     True    3.0         1     ...                      NaN      es   \n",
       "4     True    2.0         1     ...           Sants-Montjuïc      es   \n",
       "\n",
       "                      neighborhood    latitude  longitude showAddress  \\\n",
       "0       Sant Gervasi - La Bonanova  41.4009887  2.1340728       False   \n",
       "1                         El Raval  41.3729812  2.1731278       False   \n",
       "2                                0           0          0           0   \n",
       "3                              NaN  41.4050826  2.0252306        True   \n",
       "4  El Poble Sec - Parc de Montjuïc   41.372675  2.1702429       False   \n",
       "\n",
       "  hasVideo newDevelopment hasLift priceByArea  \n",
       "0     True          False    True        18.0  \n",
       "1    False          False    True        13.0  \n",
       "2        0              0       0         0.0  \n",
       "3    False          False    True         7.0  \n",
       "4    False          False    True        13.0  \n",
       "\n",
       "[5 rows x 22 columns]"
      ]
     },
     "execution_count": 3,
     "metadata": {},
     "output_type": "execute_result"
    }
   ],
   "source": [
    "data.head()"
   ]
  },
  {
   "cell_type": "code",
   "execution_count": 40,
   "metadata": {
    "collapsed": false
   },
   "outputs": [],
   "source": [
    "fields=['price', 'size']\n",
    "\n",
    "for f in fields:\n",
    "    data[f]=data[f].fillna(value=data[f].mean())"
   ]
  },
  {
   "cell_type": "code",
   "execution_count": 52,
   "metadata": {
    "collapsed": false
   },
   "outputs": [
    {
     "data": {
      "text/plain": [
       "5350"
      ]
     },
     "execution_count": 52,
     "metadata": {},
     "output_type": "execute_result"
    }
   ],
   "source": [
    "len(data)"
   ]
  },
  {
   "cell_type": "code",
   "execution_count": 51,
   "metadata": {
    "collapsed": false
   },
   "outputs": [],
   "source": [
    "#remove outliers price\n",
    "per=np.percentile(np.array(data['price']), [2.5, 97.5])\n",
    "data=data[data['price']>per[0]]\n",
    "data=data[data['price']<per[1]]"
   ]
  },
  {
   "cell_type": "code",
   "execution_count": 55,
   "metadata": {
    "collapsed": false
   },
   "outputs": [],
   "source": [
    "#remove outliers size\n",
    "per=np.percentile(np.array(data['size']), [2.5, 97.5])\n",
    "data=data[data['size']>per[0]]\n",
    "data=data[data['size']<per[1]]"
   ]
  },
  {
   "cell_type": "code",
   "execution_count": 56,
   "metadata": {
    "collapsed": false
   },
   "outputs": [
    {
     "data": {
      "text/plain": [
       "4419"
      ]
     },
     "execution_count": 56,
     "metadata": {},
     "output_type": "execute_result"
    }
   ],
   "source": [
    "len(data)"
   ]
  },
  {
   "cell_type": "code",
   "execution_count": null,
   "metadata": {
    "collapsed": true
   },
   "outputs": [],
   "source": []
  }
 ],
 "metadata": {
  "kernelspec": {
   "display_name": "Python 2",
   "language": "python",
   "name": "python2"
  },
  "language_info": {
   "codemirror_mode": {
    "name": "ipython",
    "version": 2
   },
   "file_extension": ".py",
   "mimetype": "text/x-python",
   "name": "python",
   "nbconvert_exporter": "python",
   "pygments_lexer": "ipython2",
   "version": "2.7.12"
  }
 },
 "nbformat": 4,
 "nbformat_minor": 1
}
