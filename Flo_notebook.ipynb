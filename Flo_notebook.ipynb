{
 "cells": [
  {
   "cell_type": "code",
   "execution_count": 1,
   "metadata": {
    "collapsed": true
   },
   "outputs": [],
   "source": [
    "import pandas as pd\n",
    "data=pd.read_csv(\"update_rentdata_26102016.csv\",sep=\",\")"
   ]
  },
  {
   "cell_type": "code",
   "execution_count": 2,
   "metadata": {
    "collapsed": false
   },
   "outputs": [
    {
     "name": "stdout",
     "output_type": "stream",
     "text": [
      "Index([u'propertyCode', u'thumbnail', u'numPhotos', u'floor', u'price',\n",
      "       u'propertyType', u'operation', u'size', u'exterior', u'rooms',\n",
      "       u'bathrooms', u'address', u'province', u'municipality', u'district',\n",
      "       u'country', u'neighborhood', u'latitude', u'longitude', u'showAddress',\n",
      "       u'url', u'distance', u'hasVideo', u'newDevelopment', u'tenantNumber',\n",
      "       u'tenantGender', u'hasLift', u'isSmokingAllowed', u'priceByArea'],\n",
      "      dtype='object')\n"
     ]
    }
   ],
   "source": [
    "print data.columns"
   ]
  }
 ],
 "metadata": {
  "kernelspec": {
   "display_name": "Python 2",
   "language": "python",
   "name": "python2"
  },
  "language_info": {
   "codemirror_mode": {
    "name": "ipython",
    "version": 2
   },
   "file_extension": ".py",
   "mimetype": "text/x-python",
   "name": "python",
   "nbconvert_exporter": "python",
   "pygments_lexer": "ipython2",
   "version": "2.7.12"
  }
 },
 "nbformat": 4,
 "nbformat_minor": 0
}
