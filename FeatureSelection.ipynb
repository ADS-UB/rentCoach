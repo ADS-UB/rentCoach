{
 "cells": [
  {
   "cell_type": "code",
   "execution_count": 1,
   "metadata": {
    "collapsed": false
   },
   "outputs": [
    {
     "name": "stderr",
     "output_type": "stream",
     "text": [
      "/home/jps/anaconda/lib/python2.7/site-packages/sklearn/cross_validation.py:44: DeprecationWarning: This module was deprecated in version 0.18 in favor of the model_selection module into which all the refactored classes and functions are moved. Also note that the interface of the new CV iterators are different from that of this module. This module will be removed in 0.20.\n",
      "  \"This module will be removed in 0.20.\", DeprecationWarning)\n",
      "/home/jps/anaconda/lib/python2.7/site-packages/sklearn/grid_search.py:43: DeprecationWarning: This module was deprecated in version 0.18 in favor of the model_selection module into which all the refactored classes and functions are moved. This module will be removed in 0.20.\n",
      "  DeprecationWarning)\n"
     ]
    },
    {
     "data": {
      "text/plain": [
       "Index([u'rooms', u'bathrooms', u'exterior', u'hasLift', u'size', u'floor',\n",
       "       u'longitude', u'latitude', u'price', u'hasParkingSpace',\n",
       "       u'isParkingSpaceIncludedInPrice', u'priceperarea', u'type_chalet',\n",
       "       u'type_chalet_independantHouse', u'type_chalet_semidetachedHouse',\n",
       "       u'type_chalet_terracedHouse', u'type_flat', u'type_flat_duplex',\n",
       "       u'type_flat_penthouse', u'type_flat_studio', u'good', u'newdevelopment',\n",
       "       u'renew'],\n",
       "      dtype='object')"
      ]
     },
     "execution_count": 1,
     "metadata": {},
     "output_type": "execute_result"
    }
   ],
   "source": [
    "import time\n",
    "import pandas as pd\n",
    "import numpy as np\n",
    "\n",
    "from sklearn.grid_search import GridSearchCV\n",
    "from sklearn.ensemble import RandomForestRegressor\n",
    "from sklearn.linear_model import LinearRegression\n",
    "from sklearn import metrics\n",
    "from sklearn.cross_validation import train_test_split\n",
    "from sklearn.preprocessing import StandardScaler\n",
    "from sklearn.feature_selection import SelectFromModel\n",
    "\n",
    "data = pd.read_csv('version4.csv')\n",
    "\n",
    "#data= data.drop(['Unnamed: 0', 'newdevelopment'], axis=1)\n",
    "\n",
    "#preu_park_noinclos\n",
    "#preu_park_noinclos=((data['hasParkingSpace']!=data['isParkingSpaceIncludedInPrice']).astype(float))\n",
    "#data=pd.concat((data,preu_park_noinclos),axis=1)\n",
    "#data.drop(\"isParkingSpaceIncludedInPrice\",axis=1)\n",
    "\n",
    "data.columns"
   ]
  },
  {
   "cell_type": "code",
   "execution_count": 2,
   "metadata": {
    "collapsed": false
   },
   "outputs": [
    {
     "data": {
      "text/html": [
       "<div>\n",
       "<table border=\"1\" class=\"dataframe\">\n",
       "  <thead>\n",
       "    <tr style=\"text-align: right;\">\n",
       "      <th></th>\n",
       "      <th>rooms</th>\n",
       "      <th>bathrooms</th>\n",
       "      <th>exterior</th>\n",
       "      <th>hasLift</th>\n",
       "      <th>size</th>\n",
       "      <th>floor</th>\n",
       "      <th>longitude</th>\n",
       "      <th>latitude</th>\n",
       "      <th>price</th>\n",
       "      <th>hasParkingSpace</th>\n",
       "      <th>...</th>\n",
       "      <th>type_chalet_independantHouse</th>\n",
       "      <th>type_chalet_semidetachedHouse</th>\n",
       "      <th>type_chalet_terracedHouse</th>\n",
       "      <th>type_flat</th>\n",
       "      <th>type_flat_duplex</th>\n",
       "      <th>type_flat_penthouse</th>\n",
       "      <th>type_flat_studio</th>\n",
       "      <th>good</th>\n",
       "      <th>newdevelopment</th>\n",
       "      <th>renew</th>\n",
       "    </tr>\n",
       "  </thead>\n",
       "  <tbody>\n",
       "    <tr>\n",
       "      <th>0</th>\n",
       "      <td>1.0</td>\n",
       "      <td>1.0</td>\n",
       "      <td>0.0</td>\n",
       "      <td>1.0</td>\n",
       "      <td>25.0</td>\n",
       "      <td>1.0</td>\n",
       "      <td>2.157496</td>\n",
       "      <td>41.396466</td>\n",
       "      <td>595.0</td>\n",
       "      <td>0.0</td>\n",
       "      <td>...</td>\n",
       "      <td>0</td>\n",
       "      <td>0</td>\n",
       "      <td>0</td>\n",
       "      <td>1</td>\n",
       "      <td>0</td>\n",
       "      <td>0</td>\n",
       "      <td>0</td>\n",
       "      <td>1</td>\n",
       "      <td>0</td>\n",
       "      <td>0</td>\n",
       "    </tr>\n",
       "    <tr>\n",
       "      <th>1</th>\n",
       "      <td>4.0</td>\n",
       "      <td>2.0</td>\n",
       "      <td>1.0</td>\n",
       "      <td>1.0</td>\n",
       "      <td>125.0</td>\n",
       "      <td>6.0</td>\n",
       "      <td>2.216528</td>\n",
       "      <td>41.408302</td>\n",
       "      <td>2600.0</td>\n",
       "      <td>1.0</td>\n",
       "      <td>...</td>\n",
       "      <td>0</td>\n",
       "      <td>0</td>\n",
       "      <td>0</td>\n",
       "      <td>1</td>\n",
       "      <td>0</td>\n",
       "      <td>0</td>\n",
       "      <td>0</td>\n",
       "      <td>1</td>\n",
       "      <td>0</td>\n",
       "      <td>0</td>\n",
       "    </tr>\n",
       "    <tr>\n",
       "      <th>2</th>\n",
       "      <td>3.0</td>\n",
       "      <td>2.0</td>\n",
       "      <td>1.0</td>\n",
       "      <td>1.0</td>\n",
       "      <td>107.0</td>\n",
       "      <td>6.0</td>\n",
       "      <td>2.211622</td>\n",
       "      <td>41.406239</td>\n",
       "      <td>2400.0</td>\n",
       "      <td>0.0</td>\n",
       "      <td>...</td>\n",
       "      <td>0</td>\n",
       "      <td>0</td>\n",
       "      <td>0</td>\n",
       "      <td>1</td>\n",
       "      <td>0</td>\n",
       "      <td>0</td>\n",
       "      <td>0</td>\n",
       "      <td>1</td>\n",
       "      <td>0</td>\n",
       "      <td>0</td>\n",
       "    </tr>\n",
       "    <tr>\n",
       "      <th>3</th>\n",
       "      <td>4.0</td>\n",
       "      <td>2.0</td>\n",
       "      <td>1.0</td>\n",
       "      <td>1.0</td>\n",
       "      <td>130.0</td>\n",
       "      <td>1.0</td>\n",
       "      <td>2.177979</td>\n",
       "      <td>41.384283</td>\n",
       "      <td>2000.0</td>\n",
       "      <td>0.0</td>\n",
       "      <td>...</td>\n",
       "      <td>0</td>\n",
       "      <td>0</td>\n",
       "      <td>0</td>\n",
       "      <td>1</td>\n",
       "      <td>0</td>\n",
       "      <td>0</td>\n",
       "      <td>0</td>\n",
       "      <td>1</td>\n",
       "      <td>0</td>\n",
       "      <td>0</td>\n",
       "    </tr>\n",
       "    <tr>\n",
       "      <th>4</th>\n",
       "      <td>2.0</td>\n",
       "      <td>1.0</td>\n",
       "      <td>0.0</td>\n",
       "      <td>1.0</td>\n",
       "      <td>70.0</td>\n",
       "      <td>2.0</td>\n",
       "      <td>2.165862</td>\n",
       "      <td>41.397875</td>\n",
       "      <td>1000.0</td>\n",
       "      <td>0.0</td>\n",
       "      <td>...</td>\n",
       "      <td>0</td>\n",
       "      <td>0</td>\n",
       "      <td>0</td>\n",
       "      <td>1</td>\n",
       "      <td>0</td>\n",
       "      <td>0</td>\n",
       "      <td>0</td>\n",
       "      <td>1</td>\n",
       "      <td>0</td>\n",
       "      <td>0</td>\n",
       "    </tr>\n",
       "  </tbody>\n",
       "</table>\n",
       "<p>5 rows × 23 columns</p>\n",
       "</div>"
      ],
      "text/plain": [
       "   rooms  bathrooms  exterior  hasLift   size  floor  longitude   latitude  \\\n",
       "0    1.0        1.0       0.0      1.0   25.0    1.0   2.157496  41.396466   \n",
       "1    4.0        2.0       1.0      1.0  125.0    6.0   2.216528  41.408302   \n",
       "2    3.0        2.0       1.0      1.0  107.0    6.0   2.211622  41.406239   \n",
       "3    4.0        2.0       1.0      1.0  130.0    1.0   2.177979  41.384283   \n",
       "4    2.0        1.0       0.0      1.0   70.0    2.0   2.165862  41.397875   \n",
       "\n",
       "    price  hasParkingSpace  ...    type_chalet_independantHouse  \\\n",
       "0   595.0              0.0  ...                               0   \n",
       "1  2600.0              1.0  ...                               0   \n",
       "2  2400.0              0.0  ...                               0   \n",
       "3  2000.0              0.0  ...                               0   \n",
       "4  1000.0              0.0  ...                               0   \n",
       "\n",
       "   type_chalet_semidetachedHouse  type_chalet_terracedHouse  type_flat  \\\n",
       "0                              0                          0          1   \n",
       "1                              0                          0          1   \n",
       "2                              0                          0          1   \n",
       "3                              0                          0          1   \n",
       "4                              0                          0          1   \n",
       "\n",
       "   type_flat_duplex  type_flat_penthouse  type_flat_studio  good  \\\n",
       "0                 0                    0                 0     1   \n",
       "1                 0                    0                 0     1   \n",
       "2                 0                    0                 0     1   \n",
       "3                 0                    0                 0     1   \n",
       "4                 0                    0                 0     1   \n",
       "\n",
       "   newdevelopment  renew  \n",
       "0               0      0  \n",
       "1               0      0  \n",
       "2               0      0  \n",
       "3               0      0  \n",
       "4               0      0  \n",
       "\n",
       "[5 rows x 23 columns]"
      ]
     },
     "execution_count": 2,
     "metadata": {},
     "output_type": "execute_result"
    }
   ],
   "source": [
    "data.head()"
   ]
  },
  {
   "cell_type": "code",
   "execution_count": 3,
   "metadata": {
    "collapsed": false
   },
   "outputs": [
    {
     "name": "stdout",
     "output_type": "stream",
     "text": [
      "(5385, 5)\n",
      "[[  1.00000000e+00   1.00000000e+00   2.50000000e+01   0.00000000e+00\n",
      "    1.01250000e+03]\n",
      " [  4.00000000e+00   2.00000000e+00   1.25000000e+02   1.00000000e+00\n",
      "    1.05980000e+03]\n",
      " [  3.00000000e+00   2.00000000e+00   1.07000000e+02   0.00000000e+00\n",
      "    1.05980000e+03]\n",
      " ..., \n",
      " [  3.00000000e+00   1.00000000e+00   1.60000000e+02   0.00000000e+00\n",
      "    7.23400000e+02]\n",
      " [  1.00000000e+00   1.00000000e+00   8.00000000e+01   0.00000000e+00\n",
      "    7.86000000e+02]\n",
      " [  2.00000000e+00   1.00000000e+00   5.50000000e+01   0.00000000e+00\n",
      "    7.23400000e+02]]\n"
     ]
    }
   ],
   "source": [
    "y =data['price']\n",
    "X = data.drop(['price'], axis=1)\n",
    "X=np.array(X)\n",
    "y=np.array(y)\n",
    "\n",
    "\n",
    "from sklearn.feature_selection import SelectKBest\n",
    "from sklearn.feature_selection import f_regression\n",
    "\n",
    "\n",
    "X_new = SelectKBest(f_regression, k=5).fit_transform(X, y)\n",
    "print X_new.shape\n",
    "print X_new\n",
    "#X_train, X_test, y_train, y_test = train_test_split(X, y, test_size=0.2, random_state=44)\n",
    "\n",
    "#StandardScaler\n",
    "#scaler = StandardScaler()\n",
    "#X_train = scaler.fit_transform(X_train)\n",
    "#X_test = scaler.transform(X_test)"
   ]
  },
  {
   "cell_type": "code",
   "execution_count": 4,
   "metadata": {
    "collapsed": false
   },
   "outputs": [
    {
     "name": "stdout",
     "output_type": "stream",
     "text": [
      "(5385, 22)\n",
      "[ 0.07555134  0.03551133  0.02324893  0.01246437  0.18064831  0.1134766\n",
      "  0.20587664  0.2003853   0.00766032  0.00583991  0.11214521  0.00045073\n",
      "  0.00076811  0.00063527  0.00084914  0.00620797  0.00252055  0.00399436\n",
      "  0.00144476  0.00858969  0.00026103  0.00147015]\n",
      "0.00454545454545\n",
      "(5385, 13)\n",
      "Index([u'rooms', u'bathrooms', u'exterior', u'hasLift', u'size', u'floor',\n",
      "       u'longitude', u'latitude', u'price', u'hasParkingSpace',\n",
      "       u'isParkingSpaceIncludedInPrice', u'priceperarea', u'type_chalet',\n",
      "       u'type_chalet_independantHouse', u'type_chalet_semidetachedHouse',\n",
      "       u'type_chalet_terracedHouse', u'type_flat', u'type_flat_duplex',\n",
      "       u'type_flat_penthouse', u'type_flat_studio', u'good', u'newdevelopment',\n",
      "       u'renew'],\n",
      "      dtype='object')\n"
     ]
    }
   ],
   "source": [
    "#ExtraTreesClassifier feature selection\n",
    "y =data['price']\n",
    "X = data.drop(['price'], axis=1)\n",
    "X=np.array(X)\n",
    "y=np.array(y)\n",
    "\n",
    "\n",
    "print X.shape\n",
    "\n",
    "from sklearn.ensemble import ExtraTreesClassifier\n",
    "\n",
    "from sklearn.feature_selection import SelectFromModel\n",
    "\n",
    "clf = ExtraTreesClassifier()\n",
    "clf = clf.fit(X, y)\n",
    "print clf.feature_importances_\n",
    "\n",
    "m=np.mean(clf.feature_importances_)\n",
    "print m*0.1\n",
    "model = SelectFromModel(clf, threshold=m*0.1, prefit=True)\n",
    "\n",
    "#model = SelectFromModel(clf, prefit=True)\n",
    "\n",
    "X_new = model.transform(X)\n",
    "print X_new.shape\n",
    "print data.columns\n"
   ]
  },
  {
   "cell_type": "code",
   "execution_count": 27,
   "metadata": {
    "collapsed": false
   },
   "outputs": [
    {
     "name": "stdout",
     "output_type": "stream",
     "text": [
      "(5113, 17)\n"
     ]
    },
    {
     "data": {
      "text/plain": [
       "(5113, 7)"
      ]
     },
     "execution_count": 27,
     "metadata": {},
     "output_type": "execute_result"
    }
   ],
   "source": [
    "#LinearSVC\n",
    "y =data['price']\n",
    "X = data.drop(['price'], axis=1)\n",
    "X=np.array(X)\n",
    "y=np.array(y)\n",
    "\n",
    "\n",
    "X.shape\n",
    "\n",
    "from sklearn.svm import LinearSVC\n",
    "\n",
    "from sklearn.feature_selection import SelectFromModel\n",
    "\n",
    "print X.shape\n",
    "\n",
    "lsvc = LinearSVC(C=0.01, penalty=\"l1\", dual=False).fit(X, y)\n",
    "model = SelectFromModel(lsvc, prefit=True)\n",
    "X_new = model.transform(X)\n",
    "X_new.shape"
   ]
  },
  {
   "cell_type": "code",
   "execution_count": 22,
   "metadata": {
    "collapsed": false
   },
   "outputs": [
    {
     "name": "stdout",
     "output_type": "stream",
     "text": [
      "(5113, 17)\n"
     ]
    },
    {
     "data": {
      "text/plain": [
       "(5113, 15)"
      ]
     },
     "execution_count": 22,
     "metadata": {},
     "output_type": "execute_result"
    }
   ],
   "source": [
    "#Change C in LinearSVC\n",
    "y =data['price']\n",
    "X = data.drop(['price'], axis=1)\n",
    "X=np.array(X)\n",
    "y=np.array(y)\n",
    "\n",
    "\n",
    "X.shape\n",
    "\n",
    "from sklearn.svm import LinearSVC\n",
    "\n",
    "from sklearn.feature_selection import SelectFromModel\n",
    "\n",
    "print X.shape\n",
    "\n",
    "lsvc = LinearSVC(C=0.1, penalty=\"l1\", dual=False).fit(X, y)\n",
    "model = SelectFromModel(lsvc, prefit=True)\n",
    "X_new = model.transform(X)\n",
    "X_new.shape"
   ]
  },
  {
   "cell_type": "code",
   "execution_count": 50,
   "metadata": {
    "collapsed": false
   },
   "outputs": [
    {
     "name": "stdout",
     "output_type": "stream",
     "text": [
      "(5113, 17)\n"
     ]
    },
    {
     "data": {
      "text/plain": [
       "(5113, 1)"
      ]
     },
     "execution_count": 50,
     "metadata": {},
     "output_type": "execute_result"
    }
   ],
   "source": [
    "#Lasso CV\n",
    "y =data['price']\n",
    "X = data.drop(['price'], axis=1)\n",
    "X=np.array(X)\n",
    "y=np.array(y)\n",
    "\n",
    "\n",
    "X.shape\n",
    "\n",
    "from sklearn.linear_model import LassoCV\n",
    "\n",
    "from sklearn.feature_selection import SelectFromModel\n",
    "\n",
    "print X.shape\n",
    "\n",
    "clf = LassoCV()\n",
    "model = SelectFromModel(clf, threshold=0.1, prefit=False)\n",
    "model.fit(X, y)\n",
    "X_new = model.transform(X)\n",
    "\n",
    "X_new.shape"
   ]
  },
  {
   "cell_type": "code",
   "execution_count": 56,
   "metadata": {
    "collapsed": false
   },
   "outputs": [
    {
     "name": "stdout",
     "output_type": "stream",
     "text": [
      "(5113, 17)\n"
     ]
    },
    {
     "data": {
      "text/plain": [
       "(5113, 3)"
      ]
     },
     "execution_count": 56,
     "metadata": {},
     "output_type": "execute_result"
    }
   ],
   "source": [
    "#RandomForestRegressor\n",
    "y =data['price']\n",
    "X = data.drop(['price'], axis=1)\n",
    "X=np.array(X)\n",
    "y=np.array(y)\n",
    "\n",
    "\n",
    "X.shape\n",
    "\n",
    "from sklearn.feature_selection import SelectFromModel\n",
    "\n",
    "print X.shape\n",
    "\n",
    "clf = RandomForestRegressor(n_estimators=500, bootstrap=True, random_state=44, n_jobs=-1)\n",
    "model = SelectFromModel(clf, threshold=0.1, prefit=False)\n",
    "model.fit(X, y)\n",
    "X_new = model.transform(X)\n",
    "\n",
    "X_new.shape"
   ]
  },
  {
   "cell_type": "code",
   "execution_count": 65,
   "metadata": {
    "collapsed": false
   },
   "outputs": [
    {
     "name": "stdout",
     "output_type": "stream",
     "text": [
      "(5113, 17)\n",
      "N of features: 3\n",
      "\n",
      "Mean Absolute Error:\n",
      "\n",
      "363.220504125\n",
      "\n",
      "N of features: 3\n",
      "\n",
      "Mean Absolute Error:\n",
      "\n",
      "363.220504125\n",
      "\n",
      "N of features: 3\n",
      "\n",
      "Mean Absolute Error:\n",
      "\n",
      "363.220504125\n",
      "\n",
      "N of features: 4\n",
      "\n",
      "Mean Absolute Error:\n",
      "\n",
      "358.257568362\n",
      "\n",
      "N of features: 4\n",
      "\n",
      "Mean Absolute Error:\n",
      "\n",
      "358.257568362\n",
      "\n",
      "N of features: 5\n",
      "\n",
      "Mean Absolute Error:\n",
      "\n",
      "331.170967498\n",
      "\n",
      "N of features: 6\n",
      "\n",
      "Mean Absolute Error:\n",
      "\n",
      "320.991392459\n",
      "\n",
      "N of features: 6\n",
      "\n",
      "Mean Absolute Error:\n",
      "\n",
      "320.991392459\n",
      "\n",
      "N of features: 7\n",
      "\n",
      "Mean Absolute Error:\n",
      "\n",
      "313.716177246\n",
      "\n",
      "N of features: 8\n",
      "\n",
      "Mean Absolute Error:\n",
      "\n",
      "312.257909656\n",
      "\n",
      "N of features: 17\n",
      "\n",
      "Mean Absolute Error:\n",
      "\n",
      "311.733302312\n",
      "\n"
     ]
    }
   ],
   "source": [
    "#RandomForestRegressor FS\n",
    "print X.shape\n",
    "k=0\n",
    "my_threshold=0.1\n",
    "while k<X.shape[1]:\n",
    "    y =data['price']\n",
    "    X = data.drop(['price'], axis=1)\n",
    "    X=np.array(X)\n",
    "    y=np.array(y)\n",
    "    \n",
    "    clf = RandomForestRegressor(n_estimators=500, bootstrap=True, random_state=44, n_jobs=-1)\n",
    "    model = SelectFromModel(clf, threshold=my_threshold, prefit=False)\n",
    "    model.fit(X, y)\n",
    "    X_new = model.transform(X)\n",
    "\n",
    "    k=X_new.shape[1]\n",
    "    print \"N of features: \" + str(k)\n",
    "    print \n",
    "    my_threshold=my_threshold-0.01\n",
    "    X_train, X_test, y_train, y_test = train_test_split(X_new, y, test_size=0.2, random_state=44)\n",
    "    \n",
    "    clf.fit(X_train, y_train)\n",
    "    y_true, y_pred = y_test, clf.predict(X_test)\n",
    "    print \"Mean Absolute Error:\"\n",
    "    print\n",
    "    print metrics.mean_absolute_error(y_true, y_pred)\n",
    "    print \n",
    "    \n",
    "    "
   ]
  },
  {
   "cell_type": "code",
   "execution_count": 67,
   "metadata": {
    "collapsed": false
   },
   "outputs": [
    {
     "name": "stdout",
     "output_type": "stream",
     "text": [
      "N of features: 1\n",
      "\n",
      "Mean Absolute Error:\n",
      "\n",
      "505.117497631\n",
      "\n",
      "N of features: 2\n",
      "\n",
      "Mean Absolute Error:\n",
      "\n",
      "498.948646368\n",
      "\n",
      "N of features: 3\n",
      "\n",
      "Mean Absolute Error:\n",
      "\n",
      "492.898154623\n",
      "\n",
      "N of features: 4\n",
      "\n",
      "Mean Absolute Error:\n",
      "\n",
      "433.271532276\n",
      "\n",
      "N of features: 5\n",
      "\n",
      "Mean Absolute Error:\n",
      "\n",
      "433.228117462\n",
      "\n",
      "N of features: 6\n",
      "\n",
      "Mean Absolute Error:\n",
      "\n",
      "431.066882369\n",
      "\n",
      "N of features: 7\n",
      "\n",
      "Mean Absolute Error:\n",
      "\n",
      "409.250744713\n",
      "\n",
      "N of features: 8\n",
      "\n",
      "Mean Absolute Error:\n",
      "\n",
      "409.301498162\n",
      "\n",
      "N of features: 9\n",
      "\n",
      "Mean Absolute Error:\n",
      "\n",
      "354.413272998\n",
      "\n",
      "N of features: 10\n",
      "\n",
      "Mean Absolute Error:\n",
      "\n",
      "346.270514204\n",
      "\n",
      "N of features: 11\n",
      "\n",
      "Mean Absolute Error:\n",
      "\n",
      "346.156618536\n",
      "\n",
      "N of features: 12\n",
      "\n",
      "Mean Absolute Error:\n",
      "\n",
      "346.885336849\n",
      "\n",
      "N of features: 13\n",
      "\n",
      "Mean Absolute Error:\n",
      "\n",
      "346.925949671\n",
      "\n",
      "N of features: 14\n",
      "\n",
      "Mean Absolute Error:\n",
      "\n",
      "347.412319628\n",
      "\n",
      "N of features: 15\n",
      "\n",
      "Mean Absolute Error:\n",
      "\n",
      "347.778744457\n",
      "\n",
      "N of features: 16\n",
      "\n",
      "Mean Absolute Error:\n",
      "\n",
      "347.585997467\n",
      "\n",
      "N of features: 17\n",
      "\n",
      "Mean Absolute Error:\n",
      "\n",
      "311.733302312\n",
      "\n"
     ]
    }
   ],
   "source": [
    "#SelectKBest FS\n",
    "\n",
    "for i in range(1, X.shape[1]+1):\n",
    "    y =data['price']\n",
    "    X = data.drop(['price'], axis=1)\n",
    "    X=np.array(X)\n",
    "    y=np.array(y)\n",
    "    \n",
    "    X_new = SelectKBest(f_regression, k=i).fit_transform(X, y)\n",
    "    \n",
    "    k=X_new.shape[1]\n",
    "    print \"N of features: \" + str(i)\n",
    "    print \n",
    "    X_train, X_test, y_train, y_test = train_test_split(X_new, y, test_size=0.2, random_state=44)\n",
    "    \n",
    "    clf.fit(X_train, y_train)\n",
    "    y_true, y_pred = y_test, clf.predict(X_test)\n",
    "    print \"Mean Absolute Error:\"\n",
    "    print\n",
    "    print metrics.mean_absolute_error(y_true, y_pred)\n",
    "    print"
   ]
  },
  {
   "cell_type": "code",
   "execution_count": 38,
   "metadata": {
    "collapsed": true
   },
   "outputs": [],
   "source": [
    "X_train, X_test, y_train, y_test = train_test_split(X_new, y, test_size=0.2, random_state=44)"
   ]
  },
  {
   "cell_type": "code",
   "execution_count": 39,
   "metadata": {
    "collapsed": false
   },
   "outputs": [
    {
     "name": "stdout",
     "output_type": "stream",
     "text": [
      "\n",
      "Best parameters set found on training set:\n",
      "\n",
      "{'normalize': False}\n",
      "\n",
      "Mean Absolute Error:\n",
      "\n",
      "484.259952559\n",
      "\n",
      "The model is trained on the training set. The scores are computed on the testing set.\n"
     ]
    }
   ],
   "source": [
    "#Linear regression\n",
    "\n",
    "# Set the parameters by cross-validation\n",
    "#tuned_parameters = [{'bootstrap': [True, False],'criterion': [\"gini\", \"entropy\"],'n_estimators': [10, 50, 100, 200, 500]}]\n",
    "tuned_parameters = [{'normalize' : [True,False]}]\n",
    "#scores = ['precision', 'recall']\n",
    "\n",
    "#scores = ['precision']\n",
    "#scores = ['f1']\n",
    "\n",
    "#print \"Tuning hyper-parameters for %s\" % score\n",
    "print\n",
    "clf = GridSearchCV(LinearRegression(fit_intercept=True), tuned_parameters, cv=10, scoring='neg_mean_absolute_error')\n",
    "clf.fit(X_train, y_train)\n",
    "print \"Best parameters set found on training set:\"\n",
    "print\n",
    "print clf.best_params_ \n",
    "print\n",
    "y_true, y_pred = y_test, clf.predict(X_test)\n",
    "#y_true=y_true.astype('float64')\n",
    "#print \"Confusion matrix:\"\n",
    "#print\n",
    "#print confusion_matrix(y_true, y_pred)\n",
    "#print\n",
    "#print \"Classification report:\"\n",
    "#print classification_report(y_true, y_pred)\n",
    "print \"Mean Absolute Error:\"\n",
    "print\n",
    "print metrics.mean_absolute_error(y_true, y_pred)\n",
    "print\n",
    "print \"The model is trained on the training set. The scores are computed on the testing set.\"\n"
   ]
  },
  {
   "cell_type": "code",
   "execution_count": 40,
   "metadata": {
    "collapsed": false
   },
   "outputs": [
    {
     "name": "stdout",
     "output_type": "stream",
     "text": [
      "\n",
      "Best parameters set found on training set:\n",
      "\n",
      "{'n_estimators': 500, 'bootstrap': True}\n",
      "\n",
      "Mean Absolute Error:\n",
      "\n",
      "312.54241501\n",
      "\n",
      "The model is trained on the training set. The scores are computed on the testing set.\n",
      "--- 232.221486092 seconds ---\n"
     ]
    }
   ],
   "source": [
    "#Random Forest Regressor\n",
    "#n_estimators estimate\n",
    "\n",
    "start_time = time.time()\n",
    "# Set the parameters by cross-validation\n",
    "#tuned_parameters = [{'bootstrap': [True, False],'criterion': [\"gini\", \"entropy\"],'n_estimators': [10, 50, 100, 200, 500]}]\n",
    "tuned_parameters = [{'bootstrap': [True, False],\n",
    "                     'n_estimators': [10, 50, 100, 200, 500, 600, 750]}]\n",
    "#scores = ['precision', 'recall']\n",
    "\n",
    "#scores = ['precision']\n",
    "#scores = ['f1']\n",
    "\n",
    "#print \"Tuning hyper-parameters for %s\" % score\n",
    "print\n",
    "clf = GridSearchCV(RandomForestRegressor(n_estimators=10, random_state=44, n_jobs=-1), tuned_parameters, cv=10, \n",
    "                   scoring='neg_mean_absolute_error')\n",
    "clf.fit(X_train, y_train)\n",
    "print \"Best parameters set found on training set:\"\n",
    "print\n",
    "print clf.best_params_ \n",
    "print\n",
    "y_true, y_pred = y_test, clf.predict(X_test)\n",
    "#y_true=y_true.astype('float64')\n",
    "#print \"Confusion matrix:\"\n",
    "#print\n",
    "#print confusion_matrix(y_true, y_pred)\n",
    "#print\n",
    "#print \"Classification report:\"\n",
    "#print classification_report(y_true, y_pred)\n",
    "print \"Mean Absolute Error:\"\n",
    "print\n",
    "print metrics.mean_absolute_error(y_true, y_pred)\n",
    "print\n",
    "print \"The model is trained on the training set. The scores are computed on the testing set.\"\n",
    "print(\"--- %s seconds ---\" % (time.time() - start_time))"
   ]
  },
  {
   "cell_type": "code",
   "execution_count": null,
   "metadata": {
    "collapsed": true
   },
   "outputs": [],
   "source": []
  }
 ],
 "metadata": {
  "kernelspec": {
   "display_name": "Python 2",
   "language": "python",
   "name": "python2"
  },
  "language_info": {
   "codemirror_mode": {
    "name": "ipython",
    "version": 2
   },
   "file_extension": ".py",
   "mimetype": "text/x-python",
   "name": "python",
   "nbconvert_exporter": "python",
   "pygments_lexer": "ipython2",
   "version": "2.7.12"
  }
 },
 "nbformat": 4,
 "nbformat_minor": 1
}
