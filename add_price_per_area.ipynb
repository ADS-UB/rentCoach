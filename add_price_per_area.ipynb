{
 "cells": [
  {
   "cell_type": "code",
   "execution_count": 22,
   "metadata": {
    "collapsed": true
   },
   "outputs": [],
   "source": [
    "import pandas as pd\n",
    "import numpy as np\n",
    "import matplotlib.pyplot as plt"
   ]
  },
  {
   "cell_type": "code",
   "execution_count": 23,
   "metadata": {
    "collapsed": true
   },
   "outputs": [],
   "source": [
    "data = pd.read_csv(\"version_nueva.csv\",sep=\",\", encoding=\"utf-8\")"
   ]
  },
  {
   "cell_type": "code",
   "execution_count": 24,
   "metadata": {
    "collapsed": true
   },
   "outputs": [],
   "source": [
    "#Take only municipality Barcelona\n",
    "data = data[data['municipality']=='Barcelona']\n",
    "data = data.drop(['municipality'], axis=1)"
   ]
  },
  {
   "cell_type": "code",
   "execution_count": 25,
   "metadata": {
    "collapsed": false
   },
   "outputs": [],
   "source": [
    "dataprice=pd.read_csv(\"LLOGUER_MITJA_MENSUAL_2016_edited.csv\", encoding=\"utf-8\")\n",
    "price_columns_name=[\"area\",\"priceperarea\"]\n",
    "dataprice.columns=price_columns_name\n",
    "dataprice.loc[:,('priceperarea')] = dataprice.loc[:,('priceperarea')].map(lambda x:x.replace(',',''))\n",
    "dataprice.loc[:,('priceperarea')] = pd.to_numeric(dataprice.loc[:,('priceperarea')])"
   ]
  },
  {
   "cell_type": "code",
   "execution_count": 26,
   "metadata": {
    "collapsed": false
   },
   "outputs": [],
   "source": [
    "left=data\n",
    "right=dataprice\n",
    "data=pd.merge(left, right, how='left', on=None, left_on=\"neighborhood\", right_on=\"area\")\n",
    "data = data.drop(['area'], axis=1)"
   ]
  },
  {
   "cell_type": "code",
   "execution_count": 27,
   "metadata": {
    "collapsed": false
   },
   "outputs": [
    {
     "data": {
      "text/plain": [
       "0       1012.5\n",
       "1       1059.8\n",
       "2       1059.8\n",
       "3        786.0\n",
       "4       1012.5\n",
       "5        542.3\n",
       "6        602.6\n",
       "7        625.8\n",
       "8        783.8\n",
       "9        612.1\n",
       "10       612.9\n",
       "11      1012.5\n",
       "12       856.3\n",
       "13       713.1\n",
       "14       625.8\n",
       "15       625.8\n",
       "16       651.6\n",
       "17       911.1\n",
       "18       661.4\n",
       "19       786.0\n",
       "20       624.6\n",
       "21       608.2\n",
       "22       723.4\n",
       "23       799.7\n",
       "24       723.4\n",
       "25       638.5\n",
       "26       638.5\n",
       "27       725.4\n",
       "28       713.1\n",
       "29       723.4\n",
       "         ...  \n",
       "5355    1109.7\n",
       "5356    1059.8\n",
       "5357     608.2\n",
       "5358     625.8\n",
       "5359     783.8\n",
       "5360     602.6\n",
       "5361    1059.8\n",
       "5362     856.3\n",
       "5363    1156.3\n",
       "5364     768.1\n",
       "5365    1109.7\n",
       "5366    1109.7\n",
       "5367    1109.7\n",
       "5368     799.7\n",
       "5369    1059.8\n",
       "5370     625.8\n",
       "5371    1730.0\n",
       "5372     579.9\n",
       "5373     733.1\n",
       "5374     783.8\n",
       "5375    1012.5\n",
       "5376     542.3\n",
       "5377    1012.5\n",
       "5378     713.1\n",
       "5379     783.8\n",
       "5380    1059.8\n",
       "5381     786.0\n",
       "5382     723.4\n",
       "5383     786.0\n",
       "5384     723.4\n",
       "Name: priceperarea, dtype: float64"
      ]
     },
     "execution_count": 27,
     "metadata": {},
     "output_type": "execute_result"
    }
   ],
   "source": [
    "data[\"priceperarea\"]"
   ]
  }
 ],
 "metadata": {
  "anaconda-cloud": {},
  "kernelspec": {
   "display_name": "Python [default]",
   "language": "python",
   "name": "python2"
  },
  "language_info": {
   "codemirror_mode": {
    "name": "ipython",
    "version": 2
   },
   "file_extension": ".py",
   "mimetype": "text/x-python",
   "name": "python",
   "nbconvert_exporter": "python",
   "pygments_lexer": "ipython2",
   "version": "2.7.12"
  }
 },
 "nbformat": 4,
 "nbformat_minor": 1
}
