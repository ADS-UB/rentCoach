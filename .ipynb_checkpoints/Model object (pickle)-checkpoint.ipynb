{
 "cells": [
  {
   "cell_type": "code",
   "execution_count": 1,
   "metadata": {
    "collapsed": false
   },
   "outputs": [
    {
     "name": "stderr",
     "output_type": "stream",
     "text": [
      "/home/jps/anaconda/lib/python2.7/site-packages/ipykernel/__main__.py:56: SettingWithCopyWarning: \n",
      "A value is trying to be set on a copy of a slice from a DataFrame\n",
      "\n",
      "See the caveats in the documentation: http://pandas.pydata.org/pandas-docs/stable/indexing.html#indexing-view-versus-copy\n"
     ]
    }
   ],
   "source": [
    "import pandas as pd\n",
    "import numpy as np\n",
    "import pickle\n",
    "\n",
    "from sklearn.ensemble import RandomForestRegressor\n",
    "\n",
    "# load data\n",
    "data = pd.read_csv(\"version_nueva.csv\",sep=\",\",encoding=\"utf-8\")\n",
    "\n",
    "# drop some features\n",
    "data = data.drop(['propertyCode','thumbnail','url','province',\n",
    "                  'newDevelopment','title','subtitle',\n",
    "                  'externalReference','priceByArea','propertyType'],axis=1)\n",
    "\n",
    "data = data.drop(['numPhotos', 'hasVideo', 'showAddress'],axis=1)\n",
    "\n",
    "# replace string by numbers in 'floor' column\n",
    "data['floor']=data['floor'].fillna(value='0')\n",
    "data = data.replace(to_replace='bj', value='0', inplace=False, limit=None, regex=False, method='pad', axis=None)\n",
    "data = data.replace(to_replace='en', value='1', inplace=False, limit=None, regex=False, method='pad', axis=None)\n",
    "data = data.replace(to_replace='ss', value='-1', inplace=False, limit=None, regex=False, method='pad', axis=None)\n",
    "data = data.replace(to_replace='st', value='-1', inplace=False, limit=None, regex=False, method='pad', axis=None)\n",
    "\n",
    "#Converting some selected features to float\n",
    "tofloat=['price','size','rooms','floor','bathrooms','exterior']\n",
    "###To be used when the floor feature is only numeric:\n",
    "###tofloat=['price','priceByArea','numPhotos','size','propertyCode','rooms','floor']\n",
    "for col in tofloat:\n",
    "    data[col]=data[col].astype(float)\n",
    "\n",
    "#Take only municipality Barcelona\n",
    "data = data[data['municipality']=='Barcelona']\n",
    "data = data.drop(['municipality'], axis=1)\n",
    "\n",
    "################\n",
    "#NEW IN VERSION 4:\n",
    "# 1. Add priceperarea data from the Open data BCN external file\n",
    "\n",
    "dataprice=pd.read_csv(\"LLOGUER_MITJA_MENSUAL_2016_edited.csv\", encoding=\"utf-8\")\n",
    "price_columns_name=[\"area\",\"priceperarea\"]\n",
    "dataprice.columns=price_columns_name\n",
    "dataprice.loc[:,('priceperarea')] = dataprice.loc[:,('priceperarea')].map(lambda x:x.replace(',',''))\n",
    "dataprice.loc[:,('priceperarea')] = pd.to_numeric(dataprice.loc[:,('priceperarea')])\n",
    "\n",
    "left=data\n",
    "right=dataprice\n",
    "data=pd.merge(left, right, how='left', on=None, left_on=\"neighborhood\", right_on=\"area\")\n",
    "data = data.drop(['area', 'neighborhood'], axis=1)\n",
    "\n",
    "# 2. Add a combinated column about typology\n",
    "data['typologycombined'] = np.where(data['subTypology'].isnull(), \"type_\" + data[\"typology\"], \"type_\" + data[\"typology\"] +\"_\"+ data[\"subTypology\"])\n",
    "data = data.drop(['typology'], axis=1)\n",
    "data = data.drop(['subTypology'], axis=1)\n",
    "################\n",
    "\n",
    "data['floor'][data['floor']==1000]=0.0\n",
    "\n",
    "def dummies_for(data, cols, binary=None):\n",
    "    for col in cols:\n",
    "            data = pd.concat((data, pd.get_dummies(data[col]).astype(np.int32)), axis=1)\n",
    "            data = data.drop(col, axis=1)   \n",
    "    return data\n",
    "\n",
    "data = dummies_for(data,  ['typologycombined'])\n",
    "data = dummies_for(data,  ['status'])\n",
    "data = dummies_for(data,  ['district'])\n",
    "#data = dummies_for(data,  ['neighborhood'])\n",
    "\n",
    "#Outliers removal\n",
    "per=np.percentile(np.array(data['price']), [2.5, 89])\n",
    "data=data[data['price']>per[0]]\n",
    "data=data[data['price']<per[1]]\n",
    "\n",
    "y =data['price']\n",
    "X = data.drop(['price'], axis=1)\n",
    "X=np.array(X)\n",
    "y=np.array(y)\n",
    "\n",
    "clf = RandomForestRegressor(n_estimators=200, max_features='sqrt', bootstrap=False, random_state=44, n_jobs=-1)\n",
    "clf = clf.fit(X, y)\n",
    "filename = 'myRandomForest_district.sav'\n",
    "pickle.dump(clf, open(filename, 'wb'))"
   ]
  },
  {
   "cell_type": "code",
   "execution_count": 2,
   "metadata": {
    "collapsed": false
   },
   "outputs": [
    {
     "name": "stdout",
     "output_type": "stream",
     "text": [
      "[ 750.]\n"
     ]
    }
   ],
   "source": [
    "filename = 'myRandomForest_district.sav'\n",
    "loaded_model = pickle.load(open(filename, 'rb'))\n",
    "result = loaded_model.predict(X[4,].reshape(1, -1))\n",
    "print(result)"
   ]
  },
  {
   "cell_type": "code",
   "execution_count": 3,
   "metadata": {
    "collapsed": false
   },
   "outputs": [
    {
     "data": {
      "text/plain": [
       "750.0"
      ]
     },
     "execution_count": 3,
     "metadata": {},
     "output_type": "execute_result"
    }
   ],
   "source": [
    "y[4]"
   ]
  },
  {
   "cell_type": "code",
   "execution_count": 4,
   "metadata": {
    "collapsed": false
   },
   "outputs": [
    {
     "data": {
      "text/plain": [
       "Index([                        u'rooms',                     u'bathrooms',\n",
       "                            u'exterior',                       u'hasLift',\n",
       "                                u'size',                         u'floor',\n",
       "                           u'longitude',                      u'latitude',\n",
       "                               u'price',               u'hasParkingSpace',\n",
       "       u'isParkingSpaceIncludedInPrice',                  u'priceperarea',\n",
       "                         u'type_chalet',  u'type_chalet_independantHouse',\n",
       "       u'type_chalet_semidetachedHouse',     u'type_chalet_terracedHouse',\n",
       "                           u'type_flat',              u'type_flat_duplex',\n",
       "                 u'type_flat_penthouse',              u'type_flat_studio',\n",
       "                                u'good',                u'newdevelopment',\n",
       "                               u'renew',                  u'Ciutat Vella',\n",
       "                            u'Eixample',                        u'Gràcia',\n",
       "                      u'Horta Guinardó',                     u'Les Corts',\n",
       "                          u'Nou Barris',                   u'Sant Andreu',\n",
       "                          u'Sant Martí',                u'Sants-Montjuïc',\n",
       "                 u'Sarrià-Sant Gervasi'],\n",
       "      dtype='object')"
      ]
     },
     "execution_count": 4,
     "metadata": {},
     "output_type": "execute_result"
    }
   ],
   "source": [
    "data.columns"
   ]
  },
  {
   "cell_type": "code",
   "execution_count": 5,
   "metadata": {
    "collapsed": false
   },
   "outputs": [
    {
     "data": {
      "text/plain": [
       "array([   3.     ,    1.     ,    1.     ,    1.     ,   75.     ,\n",
       "          2.     ,    2.13782,   41.35947,    0.     ,    0.     ,\n",
       "        542.3    ,    0.     ,    0.     ,    0.     ,    0.     ,\n",
       "          1.     ,    0.     ,    0.     ,    0.     ,    1.     ,\n",
       "          0.     ,    0.     ,    0.     ,    0.     ,    0.     ,\n",
       "          0.     ,    0.     ,    0.     ,    0.     ,    0.     ,\n",
       "          1.     ,    0.     ])"
      ]
     },
     "execution_count": 5,
     "metadata": {},
     "output_type": "execute_result"
    }
   ],
   "source": [
    "X[4,]"
   ]
  },
  {
   "cell_type": "code",
   "execution_count": 6,
   "metadata": {
    "collapsed": false
   },
   "outputs": [
    {
     "data": {
      "text/plain": [
       "750.0"
      ]
     },
     "execution_count": 6,
     "metadata": {},
     "output_type": "execute_result"
    }
   ],
   "source": [
    "y[4]"
   ]
  },
  {
   "cell_type": "code",
   "execution_count": 7,
   "metadata": {
    "collapsed": true
   },
   "outputs": [],
   "source": [
    "values={u'rooms': 3., u'bathrooms': 1., u'exterior': 1., u'hasLift': 1., u'size': 75., u'floor': 2.,\n",
    "       u'longitude': 2.13782, u'latitude': 41.35947, u'hasParkingSpace': 0.,\n",
    "       u'isParkingSpaceIncludedInPrice': 0., u'priceperarea': 542.3, u'type_chalet': 0.,\n",
    "       u'type_chalet_independantHouse': 0., u'type_chalet_semidetachedHouse': 0.,\n",
    "       u'type_chalet_terracedHouse': 0., u'type_flat': 1., u'type_flat_duplex': 0.,\n",
    "       u'type_flat_penthouse': 0., u'type_flat_studio': 0., u'good': 1., u'newdevelopment': 0.,\n",
    "       u'renew': 0., u'Ciutat Vella': 0., u'Eixample': 0., u'Gràcia': 0., u'Horta Guinardó': 0.,\n",
    "       u'Les Corts': 0., u'Nou Barris': 0., u'Sant Andreu': 0., u'Sant Martí': 0.,\n",
    "       u'Sants-Montjuïc': 1., u'Sarrià-Sant Gervasi': 0.}"
   ]
  },
  {
   "cell_type": "code",
   "execution_count": 17,
   "metadata": {
    "collapsed": true
   },
   "outputs": [],
   "source": [
    "values={u'rooms': 3., u'bathrooms': 1, u'exterior': 1., u'hasLift': 1., u'size': 75., u'floor': 2., \n",
    "        u'address': u'Canalejas 107', u'postal_code': u'08028', u'hasParkingSpace': 0., u'isParkingSpaceIncludedInPrice': 0., u'typology': u'type_flat', \n",
    "        u'status': u'good', u'district': u'Sants-Montjuïc', u'neighborhood': u'El Bon Pastor'}"
   ]
  },
  {
   "cell_type": "code",
   "execution_count": 18,
   "metadata": {
    "collapsed": true
   },
   "outputs": [],
   "source": [
    "from geopy.geocoders import Nominatim\n",
    "def return_lat_long(postal_code,address):\n",
    "    geolocator = Nominatim()\n",
    "    geo = postal_code + ',' + address \n",
    "    location = geolocator.geocode(geo)\n",
    "    latitude = (location.latitude)\n",
    "    longitude = (location.longitude)\n",
    "    return {u'latitude':latitude, u'longitude':longitude}"
   ]
  },
  {
   "cell_type": "code",
   "execution_count": 19,
   "metadata": {
    "collapsed": true
   },
   "outputs": [],
   "source": [
    "def return_price_per_area(values):\n",
    "    dataprice=pd.read_csv(\"LLOGUER_MITJA_MENSUAL_2016_edited.csv\", encoding=\"utf-8\")\n",
    "    \n",
    "    price_columns_name=[\"area\",\"priceperarea\"]\n",
    "    dataprice.columns=price_columns_name\n",
    "    dataprice.loc[:,('priceperarea')] = dataprice.loc[:,('priceperarea')].map(lambda x:x.replace(',',''))\n",
    "    dataprice.loc[:,('priceperarea')] = pd.to_numeric(dataprice.loc[:,('priceperarea')])\n",
    "    aux=1700.0\n",
    "    for area in dataprice.area:\n",
    "        if values[u'neighborhood'] == area:\n",
    "            aux=(dataprice[dataprice[\"area\"]==area])[\"priceperarea\"].values\n",
    "    return {u'priceperarea':aux[0]}"
   ]
  },
  {
   "cell_type": "code",
   "execution_count": 20,
   "metadata": {
    "collapsed": true
   },
   "outputs": [],
   "source": [
    "def feature_filtering(user):\n",
    "    typologies = {u'type_chalet':0 ,u'type_chalet_semidetachedHouse':0,u'type_flat':0,u'type_flat_penthouse':0,\n",
    "                u'type_chalet_independantHouse':0,u'type_chalet_terracedHouse':0,u'type_flat_duplex':0,u'type_flat_studio':0}\n",
    "    status = {u'good':0,u'newdevelopment':0,u'renew':0}\n",
    "    district = {u'Ciutat Vella':0, u'Eixample':0, u'Gr\\xe0cia':0, u'Horta Guinard\\xf3':0,u'Les Corts':0,\n",
    "            u'Nou Barris':0, u'Sant Andreu':0, u'Sant Mart\\xed':0,u'Sants-Montju\\xefc':0, \n",
    "            u'Sarri\\xe0-Sant Gervasi':0}\n",
    "    \n",
    "    typology_input = user[u'typology']\n",
    "    status_input = user[u'status']\n",
    "    district_input = user[u'district']\n",
    "    \n",
    "    typologies[typology_input]=1\n",
    "    status[status_input]=1\n",
    "    district[district_input]=1\n",
    "    \n",
    "    user.update(typologies)\n",
    "    user.update(status)\n",
    "    user.update(district)\n",
    "    user.update(return_lat_long(user[u'address'],user[u'postal_code']))\n",
    "    user.update(return_price_per_area(user))\n",
    "    \n",
    "    return user"
   ]
  },
  {
   "cell_type": "code",
   "execution_count": 21,
   "metadata": {
    "collapsed": false
   },
   "outputs": [
    {
     "data": {
      "text/plain": [
       "{u'Ciutat Vella': 0,\n",
       " u'Eixample': 0,\n",
       " u'Gr\\xe0cia': 0,\n",
       " u'Horta Guinard\\xf3': 0,\n",
       " u'Les Corts': 0,\n",
       " u'Nou Barris': 0,\n",
       " u'Sant Andreu': 0,\n",
       " u'Sant Mart\\xed': 0,\n",
       " u'Sants-Montju\\xefc': 1,\n",
       " u'Sarri\\xe0-Sant Gervasi': 0,\n",
       " u'address': u'Canalejas 107',\n",
       " u'bathrooms': 1,\n",
       " u'district': u'Sants-Montju\\xefc',\n",
       " u'exterior': 1.0,\n",
       " u'floor': 2.0,\n",
       " u'good': 1,\n",
       " u'hasLift': 1.0,\n",
       " u'hasParkingSpace': 0.0,\n",
       " u'isParkingSpaceIncludedInPrice': 0.0,\n",
       " u'latitude': 41.3730946,\n",
       " u'longitude': 2.1307245,\n",
       " u'neighborhood': u'El Bon Pastor',\n",
       " u'newdevelopment': 0,\n",
       " u'postal_code': u'08028',\n",
       " u'priceperarea': 537.29999999999995,\n",
       " u'renew': 0,\n",
       " u'rooms': 3.0,\n",
       " u'size': 75.0,\n",
       " u'status': u'good',\n",
       " u'type_chalet': 0,\n",
       " u'type_chalet_independantHouse': 0,\n",
       " u'type_chalet_semidetachedHouse': 0,\n",
       " u'type_chalet_terracedHouse': 0,\n",
       " u'type_flat': 1,\n",
       " u'type_flat_duplex': 0,\n",
       " u'type_flat_penthouse': 0,\n",
       " u'type_flat_studio': 0,\n",
       " u'typology': u'type_flat'}"
      ]
     },
     "execution_count": 21,
     "metadata": {},
     "output_type": "execute_result"
    }
   ],
   "source": [
    "feature_filtering(values)"
   ]
  },
  {
   "cell_type": "code",
   "execution_count": null,
   "metadata": {
    "collapsed": true
   },
   "outputs": [],
   "source": []
  },
  {
   "cell_type": "code",
   "execution_count": 22,
   "metadata": {
    "collapsed": true
   },
   "outputs": [],
   "source": [
    "def mypredict(values):\n",
    "    values=feature_filtering(values)\n",
    "    #Hacer funcion calcular priceperarea\n",
    "    #values[u'priceperarea']= 542.3\n",
    "    X=np.array([values[u'rooms'], values[u'bathrooms'], values[u'exterior'], values[u'hasLift'], values[u'size'], \n",
    "          values[u'floor'], values[u'longitude'], values[u'latitude'], values[u'hasParkingSpace'], \n",
    "          values[u'isParkingSpaceIncludedInPrice'], values[u'priceperarea'], values[u'type_chalet'], \n",
    "          values[u'type_chalet_independantHouse'], values[u'type_chalet_semidetachedHouse'], \n",
    "          values[u'type_chalet_terracedHouse'], values[u'type_flat'], values[u'type_flat_duplex'], \n",
    "          values[u'type_flat_penthouse'], values[u'type_flat_studio'], values[u'good'], values[u'newdevelopment'], \n",
    "          values[u'renew'], values[u'Ciutat Vella'], values[u'Eixample'], values[u'Gràcia'], \n",
    "          values[u'Horta Guinardó'], values[u'Les Corts'], values[u'Nou Barris'], values[u'Sant Andreu'], \n",
    "          values[u'Sant Martí'], values[u'Sants-Montjuïc'], values[u'Sarrià-Sant Gervasi']])\n",
    "    filename = 'myRandomForest_district.sav'\n",
    "    loaded_model = pickle.load(open(filename, 'rb'))\n",
    "    result = loaded_model.predict(X.reshape(1, -1))\n",
    "    return result[0]"
   ]
  },
  {
   "cell_type": "code",
   "execution_count": null,
   "metadata": {
    "collapsed": true
   },
   "outputs": [],
   "source": []
  },
  {
   "cell_type": "code",
   "execution_count": null,
   "metadata": {
    "collapsed": true
   },
   "outputs": [],
   "source": []
  },
  {
   "cell_type": "code",
   "execution_count": 23,
   "metadata": {
    "collapsed": false
   },
   "outputs": [
    {
     "name": "stdout",
     "output_type": "stream",
     "text": [
      "876.1\n"
     ]
    }
   ],
   "source": [
    "print mypredict(values)"
   ]
  },
  {
   "cell_type": "markdown",
   "metadata": {},
   "source": [
    "rooms: numeric\n",
    "bathrooms: numeric\n",
    "exterior: binary\n",
    "hasLift: binary\n",
    "size: numeric\n",
    "floor: numeric\n",
    "adress: string\n",
    "CP: numeric\n",
    "hasParkingSpace': binary\n",
    "isParkingSpaceIncludedInPrice': binary \n",
    "priceperarea': not necessary\n",
    "type: [u'type_chalet',\n",
    "       u'type_chalet_independantHouse', u'type_chalet_semidetachedHouse',\n",
    "       u'type_chalet_terracedHouse', u'type_flat', u'type_flat_duplex',\n",
    "       u'type_flat_penthouse', u'type_flat_studio']\n",
    "status: [u'good', u'newdevelopment', u'renew']\n",
    "district: [u'Ciutat Vella', u'Eixample', u'Gràcia', u'Horta Guinardó',\n",
    "       u'Les Corts', u'Nou Barris', u'Sant Andreu', u'Sant Martí',\n",
    "       u'Sants-Montjuïc', u'Sarrià-Sant Gervasi']\n"
   ]
  },
  {
   "cell_type": "code",
   "execution_count": null,
   "metadata": {
    "collapsed": true
   },
   "outputs": [],
   "source": [
    "values={u'rooms': 3., u'bathrooms': 1, u'exterior': 1., u'hasLift': 1., u'size': 75., u'floor': 2., \n",
    "        u'address': u'Canalejas 107', u'postal_code': u'08028', u'hasParkingSpace': 0., u'isParkingSpaceIncludedInPrice': 0., u'type': u'type_flat', \n",
    "        u'status': u'good', u'district': u'Sants-Montjuïc'}"
   ]
  },
  {
   "cell_type": "code",
   "execution_count": null,
   "metadata": {
    "collapsed": false
   },
   "outputs": [],
   "source": [
    "values"
   ]
  },
  {
   "cell_type": "code",
   "execution_count": null,
   "metadata": {
    "collapsed": false
   },
   "outputs": [],
   "source": [
    "values.values()"
   ]
  },
  {
   "cell_type": "code",
   "execution_count": null,
   "metadata": {
    "collapsed": true
   },
   "outputs": [],
   "source": []
  }
 ],
 "metadata": {
  "kernelspec": {
   "display_name": "Python 2",
   "language": "python",
   "name": "python2"
  },
  "language_info": {
   "codemirror_mode": {
    "name": "ipython",
    "version": 2
   },
   "file_extension": ".py",
   "mimetype": "text/x-python",
   "name": "python",
   "nbconvert_exporter": "python",
   "pygments_lexer": "ipython2",
   "version": "2.7.12"
  }
 },
 "nbformat": 4,
 "nbformat_minor": 1
}
