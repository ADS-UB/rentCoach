{
 "cells": [
  {
   "cell_type": "code",
   "execution_count": 24,
   "metadata": {
    "collapsed": false
   },
   "outputs": [],
   "source": [
    "%reset -f\n",
    "import pandas as pd\n",
    "import numpy as np\n",
    "from sklearn.preprocessing import StandardScaler\n",
    "from sklearn import cross_validation\n",
    "from sklearn.cross_validation import train_test_split\n",
    "from sklearn.linear_model import LinearRegression,Ridge\n",
    "from sklearn.ensemble import GradientBoostingRegressor,RandomForestRegressor\n",
    "from sklearn.svm import SVR\n",
    "from math import sqrt\n"
   ]
  },
  {
   "cell_type": "code",
   "execution_count": 26,
   "metadata": {
    "collapsed": false
   },
   "outputs": [
    {
     "data": {
      "text/html": [
       "<div>\n",
       "<table border=\"1\" class=\"dataframe\">\n",
       "  <thead>\n",
       "    <tr style=\"text-align: right;\">\n",
       "      <th></th>\n",
       "      <th>rooms</th>\n",
       "      <th>bathrooms</th>\n",
       "      <th>exterior</th>\n",
       "      <th>hasLift</th>\n",
       "      <th>size</th>\n",
       "      <th>floor</th>\n",
       "      <th>longitude</th>\n",
       "      <th>latitude</th>\n",
       "      <th>hasParkingSpace</th>\n",
       "      <th>isParkingSpaceIncludedInPrice</th>\n",
       "      <th>chalet</th>\n",
       "      <th>duplex</th>\n",
       "      <th>flat</th>\n",
       "      <th>penthouse</th>\n",
       "      <th>studio</th>\n",
       "      <th>good</th>\n",
       "      <th>newdevelopment</th>\n",
       "      <th>renew</th>\n",
       "    </tr>\n",
       "  </thead>\n",
       "  <tbody>\n",
       "    <tr>\n",
       "      <th>0</th>\n",
       "      <td>4.0</td>\n",
       "      <td>2.0</td>\n",
       "      <td>1.0</td>\n",
       "      <td>1.0</td>\n",
       "      <td>125.0</td>\n",
       "      <td>6.0</td>\n",
       "      <td>2.216528</td>\n",
       "      <td>41.408302</td>\n",
       "      <td>1.0</td>\n",
       "      <td>1.0</td>\n",
       "      <td>0</td>\n",
       "      <td>0</td>\n",
       "      <td>1</td>\n",
       "      <td>0</td>\n",
       "      <td>0</td>\n",
       "      <td>1</td>\n",
       "      <td>0</td>\n",
       "      <td>0</td>\n",
       "    </tr>\n",
       "    <tr>\n",
       "      <th>1</th>\n",
       "      <td>3.0</td>\n",
       "      <td>2.0</td>\n",
       "      <td>1.0</td>\n",
       "      <td>1.0</td>\n",
       "      <td>107.0</td>\n",
       "      <td>6.0</td>\n",
       "      <td>2.211622</td>\n",
       "      <td>41.406239</td>\n",
       "      <td>0.0</td>\n",
       "      <td>0.0</td>\n",
       "      <td>0</td>\n",
       "      <td>0</td>\n",
       "      <td>1</td>\n",
       "      <td>0</td>\n",
       "      <td>0</td>\n",
       "      <td>1</td>\n",
       "      <td>0</td>\n",
       "      <td>0</td>\n",
       "    </tr>\n",
       "    <tr>\n",
       "      <th>2</th>\n",
       "      <td>4.0</td>\n",
       "      <td>2.0</td>\n",
       "      <td>1.0</td>\n",
       "      <td>1.0</td>\n",
       "      <td>130.0</td>\n",
       "      <td>1.0</td>\n",
       "      <td>2.177979</td>\n",
       "      <td>41.384283</td>\n",
       "      <td>0.0</td>\n",
       "      <td>0.0</td>\n",
       "      <td>0</td>\n",
       "      <td>0</td>\n",
       "      <td>1</td>\n",
       "      <td>0</td>\n",
       "      <td>0</td>\n",
       "      <td>1</td>\n",
       "      <td>0</td>\n",
       "      <td>0</td>\n",
       "    </tr>\n",
       "    <tr>\n",
       "      <th>3</th>\n",
       "      <td>2.0</td>\n",
       "      <td>1.0</td>\n",
       "      <td>0.0</td>\n",
       "      <td>1.0</td>\n",
       "      <td>70.0</td>\n",
       "      <td>2.0</td>\n",
       "      <td>2.165862</td>\n",
       "      <td>41.397875</td>\n",
       "      <td>0.0</td>\n",
       "      <td>0.0</td>\n",
       "      <td>0</td>\n",
       "      <td>0</td>\n",
       "      <td>1</td>\n",
       "      <td>0</td>\n",
       "      <td>0</td>\n",
       "      <td>1</td>\n",
       "      <td>0</td>\n",
       "      <td>0</td>\n",
       "    </tr>\n",
       "    <tr>\n",
       "      <th>4</th>\n",
       "      <td>3.0</td>\n",
       "      <td>1.0</td>\n",
       "      <td>1.0</td>\n",
       "      <td>1.0</td>\n",
       "      <td>75.0</td>\n",
       "      <td>2.0</td>\n",
       "      <td>2.137820</td>\n",
       "      <td>41.359470</td>\n",
       "      <td>0.0</td>\n",
       "      <td>0.0</td>\n",
       "      <td>0</td>\n",
       "      <td>0</td>\n",
       "      <td>1</td>\n",
       "      <td>0</td>\n",
       "      <td>0</td>\n",
       "      <td>1</td>\n",
       "      <td>0</td>\n",
       "      <td>0</td>\n",
       "    </tr>\n",
       "  </tbody>\n",
       "</table>\n",
       "</div>"
      ],
      "text/plain": [
       "   rooms  bathrooms  exterior  hasLift   size  floor  longitude   latitude  \\\n",
       "0    4.0        2.0       1.0      1.0  125.0    6.0   2.216528  41.408302   \n",
       "1    3.0        2.0       1.0      1.0  107.0    6.0   2.211622  41.406239   \n",
       "2    4.0        2.0       1.0      1.0  130.0    1.0   2.177979  41.384283   \n",
       "3    2.0        1.0       0.0      1.0   70.0    2.0   2.165862  41.397875   \n",
       "4    3.0        1.0       1.0      1.0   75.0    2.0   2.137820  41.359470   \n",
       "\n",
       "   hasParkingSpace  isParkingSpaceIncludedInPrice  chalet  duplex  flat  \\\n",
       "0              1.0                            1.0       0       0     1   \n",
       "1              0.0                            0.0       0       0     1   \n",
       "2              0.0                            0.0       0       0     1   \n",
       "3              0.0                            0.0       0       0     1   \n",
       "4              0.0                            0.0       0       0     1   \n",
       "\n",
       "   penthouse  studio  good  newdevelopment  renew  \n",
       "0          0       0     1               0      0  \n",
       "1          0       0     1               0      0  \n",
       "2          0       0     1               0      0  \n",
       "3          0       0     1               0      0  \n",
       "4          0       0     1               0      0  "
      ]
     },
     "execution_count": 26,
     "metadata": {},
     "output_type": "execute_result"
    }
   ],
   "source": [
    "\n",
    "rentdata = pd.read_csv('version3.csv')\n",
    "y=rentdata['price'].values\n",
    "rentdata=rentdata.drop(['price','Unnamed: 0'],axis=1)\n",
    "rentdata.head()"
   ]
  },
  {
   "cell_type": "markdown",
   "metadata": {},
   "source": [
    "We define the feature we want to predict (price), ant split our training and testing sets."
   ]
  },
  {
   "cell_type": "code",
   "execution_count": 27,
   "metadata": {
    "collapsed": false
   },
   "outputs": [],
   "source": [
    "X=rentdata.values\n",
    "\n",
    "X_train, X_test, y_train, y_test = train_test_split(X, y, test_size=0.1,random_state=44)\n",
    "\n"
   ]
  },
  {
   "cell_type": "code",
   "execution_count": 28,
   "metadata": {
    "collapsed": true
   },
   "outputs": [],
   "source": [
    "scaler = StandardScaler()\n",
    "X_train=scaler.fit_transform(X_train)\n",
    "X_test= scaler.transform(X_test)"
   ]
  },
  {
   "cell_type": "code",
   "execution_count": 29,
   "metadata": {
    "collapsed": false
   },
   "outputs": [
    {
     "name": "stdout",
     "output_type": "stream",
     "text": [
      "(4601L, 18L)\n",
      "(512L, 18L)\n"
     ]
    }
   ],
   "source": [
    "print X_train.shape\n",
    "print X_test.shape\n"
   ]
  },
  {
   "cell_type": "code",
   "execution_count": 30,
   "metadata": {
    "collapsed": true
   },
   "outputs": [],
   "source": [
    "#Creates a vector (x,x^2,x^3,....,x^i)\n",
    "def extend(x,n):\n",
    "    x_extend=x\n",
    "    for i in range(1,n): x_extend=np.c_[x_extend,x**(i+1)]\n",
    "    return x_extend"
   ]
  },
  {
   "cell_type": "code",
   "execution_count": 31,
   "metadata": {
    "collapsed": true
   },
   "outputs": [],
   "source": [
    "#Root mean squared error\n",
    "def rmse(y,yhat):\n",
    "    dif=y-yhat\n",
    "    N=len(y)\n",
    "    return sqrt((1./N)*np.dot(dif.T,dif))\n",
    "\n"
   ]
  },
  {
   "cell_type": "code",
   "execution_count": 32,
   "metadata": {
    "collapsed": true
   },
   "outputs": [],
   "source": [
    "CMAX=20\n",
    "Err=np.zeros((CMAX,4,2))\n",
    "reg_meth=['Linear Regression','Ridge regressor','Random Forest Regressor','Gradient Boosting Regressor']\n"
   ]
  },
  {
   "cell_type": "code",
   "execution_count": 33,
   "metadata": {
    "collapsed": false
   },
   "outputs": [],
   "source": [
    "#Linear Regressor\n",
    "lreg = LinearRegression(fit_intercept=True,normalize=False)\n",
    "for i in range(CMAX):\n",
    "    lreg.fit(extend(X_train,i+1),y_train)\n",
    "    yhat_in=lreg.predict(extend(X_train,i+1))\n",
    "    Err[i,0,0]=rmse(y_train,yhat_in)\n",
    "    yhat_out=lreg.predict(extend(X_test,i+1))\n",
    "    Err[i,0,1]=rmse(y_test,yhat_out)"
   ]
  },
  {
   "cell_type": "code",
   "execution_count": 35,
   "metadata": {
    "collapsed": false
   },
   "outputs": [],
   "source": [
    "#Ridge Regressor\n",
    "rid = Ridge(normalize= False, alpha= 0.7, tol= 0.1, fit_intercept= True)\n",
    "for i in range(CMAX):\n",
    "    rid.fit(extend(X_train,i+1), y_train)\n",
    "    yhat_in=rid.predict(extend(X_train,i+1))\n",
    "    Err[i,1,0]=rmse(y_train,yhat_in)\n",
    "    yhat_out=rid.predict(extend(X_test,i+1))\n",
    "    Err[i,1,1]=rmse(y_test,yhat_out)"
   ]
  },
  {
   "cell_type": "code",
   "execution_count": 16,
   "metadata": {
    "collapsed": false
   },
   "outputs": [],
   "source": [
    "#Random Forest Regressor\n",
    "rfr = RandomForestRegressor(n_estimators=500,bootstrap=True)\n",
    "rfr.fit(X_train, y_train)\n",
    "yhat_in=rfr.predict(X_train)\n",
    "yhat_out=rfr.predict(X_test)\n",
    "for i in range(CMAX):\n",
    "    Err[i,2,0]=rmse(y_train,yhat_in)\n",
    "    Err[i,2,1]=rmse(y_test,yhat_out)"
   ]
  },
  {
   "cell_type": "code",
   "execution_count": 17,
   "metadata": {
    "collapsed": false
   },
   "outputs": [],
   "source": [
    "#Gradient Boosting Regressor\n",
    "gbr=GradientBoostingRegressor(n_estimators=200, max_depth=5)\n",
    "gbr.fit(X_train, y_train)\n",
    "yhat_in=gbr.predict(X_train)\n",
    "yhat_out=gbr.predict(X_test)\n",
    "for i in range(CMAX):\n",
    "   Err[i,3,0]=rmse(y_train,yhat_in)\n",
    "   Err[i,3,1]=rmse(y_test,yhat_out)\n",
    "    \n",
    "    "
   ]
  },
  {
   "cell_type": "code",
   "execution_count": 18,
   "metadata": {
    "collapsed": false
   },
   "outputs": [
    {
     "name": "stdout",
     "output_type": "stream",
     "text": [
      "192.454821351 526.076500119\n",
      "[0 2]\n",
      "[0 2]\n"
     ]
    }
   ],
   "source": [
    "Ein_min=Err[:,:,0].min()\n",
    "Eout_min=Err[:,:,1].min()\n",
    "idx_inmin=np.asarray([np.where(Err[:,:,0]==Ein_min)[0][0],np.where(Err[:,:,0]==Ein_min)[1][0]])\n",
    "idx_outmin=np.asarray([np.where(Err[:,:,1]==Eout_min)[0][0],np.where(Err[:,:,1]==Eout_min)[1][0]])\n",
    "print Ein_min,Eout_min\n",
    "print idx_inmin\n",
    "print idx_outmin"
   ]
  },
  {
   "cell_type": "code",
   "execution_count": 21,
   "metadata": {
    "collapsed": false,
    "scrolled": true
   },
   "outputs": [
    {
     "name": "stdout",
     "output_type": "stream",
     "text": [
      "     \t Linear Regressor \t\t         Ridge Regressor \n",
      "C    \t  Ein            Eout     \t       Ein           Eout \n",
      "1    741.722036474   725.110049089 \t  741.722066226   725.095505656\n",
      "2    691.038740621   678.479469472 \t  691.038854307   678.446273369\n",
      "3    688.444218269   674.786419879 \t  688.444416736   674.765898854\n",
      "4    682.121761319   717.784730756 \t  682.106031895   717.550731389\n",
      "5    669.007519905   845.259289957 \t  669.007898026   844.068439381\n",
      "6    665.621403658   667.474253243 \t  665.62244981   665.369565721\n",
      "7    661.941728181   4356.14842334 \t  661.943536658   4342.64653748\n",
      "8    656.341664349   15847.065471 \t  656.344524073   15623.5643985\n",
      "9    655.771493982   9073.39035884 \t  655.774741778   7117.4916747\n",
      "10    650.323483199   26167.1127095 \t  650.340541408   9118.80695268\n",
      "11    644.999548689   1694758.88966 \t  645.057367921   821071.483061\n",
      "12    644.803029651   6108669.94631 \t  644.877092144   3466739.61373\n",
      "13    640.843364268   32248718.5519 \t  641.071004122   31250059.0745\n",
      "14    638.882631934   288243157.179 \t  639.642557853   291236083.459\n",
      "15    639.118417654   2559564552.02 \t  639.168286602   2622399387.21\n",
      "16    681.665313625   28859350240.8 \t  638.599555455   3486577926.47\n",
      "17    772.13664313   229730935391.0 \t  695.269289597   3.46513965778e+12\n",
      "18    734.497627324   2.44991514248e+12 \t  1005.68834938   5.09782525044e+12\n",
      "19    811.236505924   2.95183763758e+12 \t  1103.85025215   1.92844666023e+13\n",
      "20    900.953925294   2.50953950752e+12 \t  1415.08158757   1.40686141951e+14\n",
      "\n",
      "\n",
      "     \t  Random Forest Regressor \t Gradient Boosting Regressor\n",
      "C    \t  Ein         Eout            \t  Ein           Eout   \n",
      "1    192.454821351   526.076500119   544.757491456   586.519436048\n",
      "2    194.674261546   539.771355909   540.971636751   582.590851861\n",
      "3    196.154953325   539.40054222   540.971636751   582.821229008\n",
      "4    194.788684765   541.164397448   540.971636751   582.572987504\n",
      "5    194.654891155   540.494351357   540.971636751   582.408723379\n",
      "6    195.368370439   541.653384417   540.971636751   581.590331818\n",
      "7    195.775559344   541.075388181   540.971636751   583.275318124\n",
      "8    195.497012967   542.276372879   540.971636751   581.30161475\n",
      "9    194.827295815   540.682688176   540.971636751   582.528911051\n",
      "10    194.843834378   542.397513323   540.971636751   581.718362116\n",
      "11    194.929373691   541.265706154   540.971636751   582.255200063\n",
      "12    195.758503774   540.381490585   540.971636751   584.447797717\n",
      "13    195.627457194   542.70367894   540.971636751   581.457565872\n",
      "14    195.910592513   542.944922936   540.971636751   582.44922631\n",
      "15    194.49778925   543.764777776   540.971636751   581.94006995\n",
      "16    196.215636416   543.419285065   540.971636751   582.477237625\n",
      "17    195.501062979   540.247306952   540.971636751   582.705552757\n",
      "18    195.697378857   540.635121026   540.971636751   581.939683187\n",
      "19    195.350334075   540.920224013   540.971636751   582.652175046\n",
      "20    195.479142307   542.105245648   540.971636751   582.81853723\n",
      "\n",
      "\n",
      "The minimum Ein is 192.454821351 for Random Forest Regressor ,complexity 1\n",
      "\n",
      "\n",
      "The minimum Eout is 526.076500119 for Random Forest Regressor ,complexity 1\n"
     ]
    }
   ],
   "source": [
    "print '     \\t Linear Regressor \\t\\t         Ridge Regressor '\n",
    "print 'C    \\t  Ein            Eout     \\t       Ein           Eout '\n",
    "for i in range(CMAX):\n",
    "    print  i+1,'  ',Err[i,0,0],' ',Err[i,0,1],'\\t ',Err[i,1,0],' ',Err[i,1,1]\n",
    "print '\\n\\n     \\t  Random Forest Regressor \\t Gradient Boosting Regressor'\n",
    "print 'C    \\t  Ein         Eout            \\t  Ein           Eout   '\n",
    "for i in range(CMAX):\n",
    "    print  i+1,'  ',Err[i,2,0],' ',Err[i,2,1],' ',Err[i,3,0],' ',Err[i,3,1]\n",
    "\n",
    "print '\\n\\nThe minimum Ein is',Ein_min,'for',reg_meth[idx_inmin[1]],',complexity',idx_inmin[0]+1\n",
    "print '\\n\\nThe minimum Eout is',Eout_min,'for',reg_meth[idx_outmin[1]],',complexity',idx_outmin[0]+1  "
   ]
  },
  {
   "cell_type": "code",
   "execution_count": 23,
   "metadata": {
    "collapsed": false
   },
   "outputs": [
    {
     "name": "stdout",
     "output_type": "stream",
     "text": [
      "Ein= 191.424288839\n"
     ]
    }
   ],
   "source": [
    "X_scaled=scaler.fit_transform(X)\n",
    "if idx_outmin[1]==0: freg = lreg\n",
    "if idx_outmin[1]==1: freg = rid \n",
    "if idx_outmin[1]==2: freg = rfr \n",
    "if idx_outmin[1]==3: freg = gbr\n",
    "i=idx_outmin[0]\n",
    "freg.fit(extend(X_scaled,i+1),y)\n",
    "yhat_in=freg.predict(extend(X_scaled,i+1))\n",
    "Ein=rmse(y,yhat_in)\n",
    "#yhat_out=freg.predict()\n",
    "\n",
    "print 'Ein=',Ein#,'\\t Eout=',Eout"
   ]
  },
  {
   "cell_type": "code",
   "execution_count": null,
   "metadata": {
    "collapsed": true
   },
   "outputs": [],
   "source": []
  },
  {
   "cell_type": "code",
   "execution_count": null,
   "metadata": {
    "collapsed": true
   },
   "outputs": [],
   "source": []
  }
 ],
 "metadata": {
  "anaconda-cloud": {},
  "kernelspec": {
   "display_name": "Python [Root]",
   "language": "python",
   "name": "Python [Root]"
  },
  "language_info": {
   "codemirror_mode": {
    "name": "ipython",
    "version": 2
   },
   "file_extension": ".py",
   "mimetype": "text/x-python",
   "name": "python",
   "nbconvert_exporter": "python",
   "pygments_lexer": "ipython2",
   "version": "2.7.12"
  }
 },
 "nbformat": 4,
 "nbformat_minor": 0
}
