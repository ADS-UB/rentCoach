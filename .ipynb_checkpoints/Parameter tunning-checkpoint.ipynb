{
 "cells": [
  {
   "cell_type": "code",
   "execution_count": null,
   "metadata": {
    "collapsed": false
   },
   "outputs": [],
   "source": [
    "import time\n",
    "import pandas as pd\n",
    "import numpy as np\n",
    "\n",
    "from sklearn.grid_search import GridSearchCV\n",
    "from sklearn.ensemble import RandomForestRegressor,GradientBoostingRegressor\n",
    "from sklearn.linear_model import LinearRegression,Ridge\n",
    "from sklearn import metrics\n",
    "from sklearn.cross_validation import train_test_split\n",
    "\n",
    "data = pd.read_csv('version2.csv')\n",
    "data = data.drop(['priceByArea','Unnamed: 0'],\n",
    "                 axis=1)\n",
    "data.columns"
   ]
  },
  {
   "cell_type": "code",
   "execution_count": 20,
   "metadata": {
    "collapsed": true
   },
   "outputs": [],
   "source": [
    "y =data['price']\n",
    "X = data.drop(['price'], axis=1)\n",
    "X=np.array(X)\n",
    "y=np.array(y)\n",
    "\n",
    "X_train, X_test, y_train, y_test = train_test_split(X, y, test_size=0.2, random_state=44)"
   ]
  },
  {
   "cell_type": "code",
   "execution_count": 21,
   "metadata": {
    "collapsed": false
   },
   "outputs": [
    {
     "name": "stdout",
     "output_type": "stream",
     "text": [
      "\n",
      "Best parameters set found on training set:\n",
      "\n",
      "{'normalize': False}\n",
      "\n",
      "Mean Absolute Error:\n",
      "\n",
      "536.486112645\n",
      "\n",
      "The model is trained on the training set. The scores are computed on the testing set.\n"
     ]
    }
   ],
   "source": [
    "#Linear regression\n",
    "\n",
    "# Set the parameters by cross-validation\n",
    "#tuned_parameters = [{'bootstrap': [True, False],'criterion': [\"gini\", \"entropy\"],'n_estimators': [10, 50, 100, 200, 500]}]\n",
    "tuned_parameters = [{'normalize' : [True,False]}]\n",
    "#scores = ['precision', 'recall']\n",
    "\n",
    "#scores = ['precision']\n",
    "#scores = ['f1']\n",
    "\n",
    "#print \"Tuning hyper-parameters for %s\" % score\n",
    "print\n",
    "clf = GridSearchCV(LinearRegression(fit_intercept=True), tuned_parameters, cv=10, \n",
    "                   scoring='mean_absolute_error')\n",
    "clf.fit(X_train, y_train)\n",
    "print \"Best parameters set found on training set:\"\n",
    "print\n",
    "print clf.best_params_ \n",
    "print\n",
    "y_true, y_pred = y_test, clf.predict(X_test)\n",
    "#y_true=y_true.astype('float64')\n",
    "#print \"Confusion matrix:\"\n",
    "#print\n",
    "#print confusion_matrix(y_true, y_pred)\n",
    "#print\n",
    "#print \"Classification report:\"\n",
    "#print classification_report(y_true, y_pred)\n",
    "print \"Mean Absolute Error:\"\n",
    "print\n",
    "print metrics.mean_absolute_error(y_true, y_pred)\n",
    "print\n",
    "print \"The model is trained on the training set. The scores are computed on the testing set.\"\n"
   ]
  },
  {
   "cell_type": "code",
   "execution_count": 23,
   "metadata": {
    "collapsed": false
   },
   "outputs": [
    {
     "name": "stdout",
     "output_type": "stream",
     "text": [
      "\n",
      "Best parameters set found on training set:\n",
      "\n",
      "{'n_estimators': 600, 'bootstrap': True}\n",
      "\n",
      "Mean Absolute Error:\n",
      "\n",
      "343.793311158\n",
      "\n",
      "The model is trained on the training set. The scores are computed on the testing set.\n",
      "--- 216.154000044 seconds ---\n"
     ]
    }
   ],
   "source": [
    "#Random Forest Regressor\n",
    "#n_estimators estimate\n",
    "\n",
    "start_time = time.time()\n",
    "# Set the parameters by cross-validation\n",
    "#tuned_parameters = [{'bootstrap': [True, False],'criterion': [\"gini\", \"entropy\"],'n_estimators': [10, 50, 100, 200, 500]}]\n",
    "tuned_parameters = [{'bootstrap': [True, False],\n",
    "                     'n_estimators': [10, 50, 100, 200, 500, 600, 750]}]\n",
    "#scores = ['precision', 'recall']\n",
    "\n",
    "#scores = ['precision']\n",
    "#scores = ['f1']\n",
    "\n",
    "#print \"Tuning hyper-parameters for %s\" % score\n",
    "print\n",
    "clf = GridSearchCV(RandomForestRegressor(n_estimators=10, random_state=44, n_jobs=-1), tuned_parameters, cv=10, \n",
    "                   scoring='mean_absolute_error')\n",
    "clf.fit(X_train, y_train)\n",
    "print \"Best parameters set found on training set:\"\n",
    "print\n",
    "print clf.best_params_ \n",
    "print\n",
    "y_true, y_pred = y_test, clf.predict(X_test)\n",
    "#y_true=y_true.astype('float64')\n",
    "#print \"Confusion matrix:\"\n",
    "#print\n",
    "#print confusion_matrix(y_true, y_pred)\n",
    "#print\n",
    "#print \"Classification report:\"\n",
    "#print classification_report(y_true, y_pred)\n",
    "print \"Mean Absolute Error:\"\n",
    "print\n",
    "print metrics.mean_absolute_error(y_true, y_pred)\n",
    "print\n",
    "print \"The model is trained on the training set. The scores are computed on the testing set.\"\n",
    "print(\"--- %s seconds ---\" % (time.time() - start_time))"
   ]
  },
  {
   "cell_type": "code",
   "execution_count": 24,
   "metadata": {
    "collapsed": false
   },
   "outputs": [
    {
     "name": "stdout",
     "output_type": "stream",
     "text": [
      "\n",
      "Best parameters set found on training set:\n",
      "\n",
      "{'n_estimators': 600, 'bootstrap': True}\n",
      "\n",
      "Mean Absolute Error:\n",
      "\n",
      "343.793311158\n",
      "\n",
      "The model is trained on the training set. The scores are computed on the testing set.\n",
      "--- 406.351999998 seconds ---\n"
     ]
    }
   ],
   "source": [
    "#Random Forest Regressor\n",
    "#n_estimators estimate\n",
    "\n",
    "start_time = time.time()\n",
    "# Set the parameters by cross-validation\n",
    "#tuned_parameters = [{'bootstrap': [True, False],'criterion': [\"gini\", \"entropy\"],'n_estimators': [10, 50, 100, 200, 500]}]\n",
    "tuned_parameters = [{'bootstrap': [True, False],\n",
    "                     'n_estimators': [500, 550, 600, 650, 700, 750]}]\n",
    "#scores = ['precision', 'recall']\n",
    "\n",
    "#scores = ['precision']\n",
    "#scores = ['f1']\n",
    "\n",
    "#print \"Tuning hyper-parameters for %s\" % score\n",
    "print\n",
    "clf = GridSearchCV(RandomForestRegressor(n_estimators=10, random_state=44, n_jobs=-1), tuned_parameters, cv=10, \n",
    "                   scoring='mean_absolute_error')\n",
    "clf.fit(X_train, y_train)\n",
    "print \"Best parameters set found on training set:\"\n",
    "print\n",
    "print clf.best_params_ \n",
    "print\n",
    "y_true, y_pred = y_test, clf.predict(X_test)\n",
    "#y_true=y_true.astype('float64')\n",
    "#print \"Confusion matrix:\"\n",
    "#print\n",
    "#print confusion_matrix(y_true, y_pred)\n",
    "#print\n",
    "#print \"Classification report:\"\n",
    "#print classification_report(y_true, y_pred)\n",
    "print \"Mean Absolute Error:\"\n",
    "print\n",
    "print metrics.mean_absolute_error(y_true, y_pred)\n",
    "print\n",
    "print \"The model is trained on the training set. The scores are computed on the testing set.\"\n",
    "print(\"--- %s seconds ---\" % (time.time() - start_time))"
   ]
  },
  {
   "cell_type": "code",
   "execution_count": 25,
   "metadata": {
    "collapsed": false
   },
   "outputs": [
    {
     "name": "stdout",
     "output_type": "stream",
     "text": [
      "\n",
      "Best parameters set found on training set:\n",
      "\n",
      "{'n_estimators': 575, 'bootstrap': True}\n",
      "\n",
      "Mean Absolute Error:\n",
      "\n",
      "343.727160202\n",
      "\n",
      "The model is trained on the training set. The scores are computed on the testing set.\n",
      "--- 294.484999895 seconds ---\n"
     ]
    }
   ],
   "source": [
    "#Random Forest Regressor\n",
    "#n_estimators estimate\n",
    "\n",
    "start_time = time.time()\n",
    "# Set the parameters by cross-validation\n",
    "#tuned_parameters = [{'bootstrap': [True, False],'criterion': [\"gini\", \"entropy\"],'n_estimators': [10, 50, 100, 200, 500]}]\n",
    "tuned_parameters = [{'bootstrap': [True, False],\n",
    "                     'n_estimators': [550, 575, 600, 625, 650]}]\n",
    "#scores = ['precision', 'recall']\n",
    "\n",
    "#scores = ['precision']\n",
    "#scores = ['f1']\n",
    "\n",
    "#print \"Tuning hyper-parameters for %s\" % score\n",
    "print\n",
    "clf = GridSearchCV(RandomForestRegressor(n_estimators=10, random_state=44, n_jobs=-1), tuned_parameters, cv=10, \n",
    "                   scoring='mean_absolute_error')\n",
    "clf.fit(X_train, y_train)\n",
    "print \"Best parameters set found on training set:\"\n",
    "print\n",
    "print clf.best_params_ \n",
    "print\n",
    "y_true, y_pred = y_test, clf.predict(X_test)\n",
    "#y_true=y_true.astype('float64')\n",
    "#print \"Confusion matrix:\"\n",
    "#print\n",
    "#print confusion_matrix(y_true, y_pred)\n",
    "#print\n",
    "#print \"Classification report:\"\n",
    "#print classification_report(y_true, y_pred)\n",
    "print \"Mean Absolute Error:\"\n",
    "print\n",
    "print metrics.mean_absolute_error(y_true, y_pred)\n",
    "print\n",
    "print \"The model is trained on the training set. The scores are computed on the testing set.\"\n",
    "print(\"--- %s seconds ---\" % (time.time() - start_time))"
   ]
  },
  {
   "cell_type": "code",
   "execution_count": 27,
   "metadata": {
    "collapsed": false
   },
   "outputs": [
    {
     "name": "stdout",
     "output_type": "stream",
     "text": [
      "\n",
      "Best parameters set found on training set:\n",
      "\n",
      "{'n_estimators': 600, 'bootstrap': True, 'min_samples_leaf': 1}\n",
      "\n",
      "Mean Absolute Error:\n",
      "\n",
      "343.793311158\n",
      "\n",
      "The model is trained on the training set. The scores are computed on the testing set.\n",
      "--- 917.863999844 seconds ---\n"
     ]
    }
   ],
   "source": [
    "#Random Forest Regressor\n",
    "#min_samples_leaf estimate\n",
    "\n",
    "start_time = time.time()\n",
    "# Set the parameters by cross-validation\n",
    "#tuned_parameters = [{'bootstrap': [True, False],'criterion': [\"gini\", \"entropy\"],'n_estimators': [10, 50, 100, 200, 500]}]\n",
    "tuned_parameters = [{'bootstrap': [True, False],\n",
    "                     'n_estimators': [10, 50, 100, 200, 500, 600, 750],\n",
    "                     'min_samples_leaf': [1, 5, 10, 50, 100, 200]}]\n",
    "#scores = ['precision', 'recall']\n",
    "\n",
    "#scores = ['precision']\n",
    "#scores = ['f1']\n",
    "\n",
    "#print \"Tuning hyper-parameters for %s\" % score\n",
    "print\n",
    "clf = GridSearchCV(RandomForestRegressor(n_estimators=10, random_state=44, n_jobs=-1), tuned_parameters, cv=10, \n",
    "                   scoring='mean_absolute_error')\n",
    "clf.fit(X_train, y_train)\n",
    "print \"Best parameters set found on training set:\"\n",
    "print\n",
    "print clf.best_params_ \n",
    "print\n",
    "y_true, y_pred = y_test, clf.predict(X_test)\n",
    "#y_true=y_true.astype('float64')\n",
    "#print \"Confusion matrix:\"\n",
    "#print\n",
    "#print confusion_matrix(y_true, y_pred)\n",
    "#print\n",
    "#print \"Classification report:\"\n",
    "#print classification_report(y_true, y_pred)\n",
    "print \"Mean Absolute Error:\"\n",
    "print\n",
    "print metrics.mean_absolute_error(y_true, y_pred)\n",
    "print\n",
    "print \"The model is trained on the training set. The scores are computed on the testing set.\"\n",
    "print(\"--- %s seconds ---\" % (time.time() - start_time))"
   ]
  },
  {
   "cell_type": "code",
   "execution_count": 28,
   "metadata": {
    "collapsed": false
   },
   "outputs": [
    {
     "name": "stdout",
     "output_type": "stream",
     "text": [
      "\n"
     ]
    },
    {
     "ename": "TypeError",
     "evalue": "__init__() got an unexpected keyword argument 'loss'",
     "output_type": "error",
     "traceback": [
      "\u001b[1;31m---------------------------------------------------------------------------\u001b[0m",
      "\u001b[1;31mTypeError\u001b[0m                                 Traceback (most recent call last)",
      "\u001b[1;32m<ipython-input-28-773a96ce122e>\u001b[0m in \u001b[0;36m<module>\u001b[1;34m()\u001b[0m\n\u001b[0;32m     14\u001b[0m \u001b[1;31m#print \"Tuning hyper-parameters for %s\" % score\u001b[0m\u001b[1;33m\u001b[0m\u001b[1;33m\u001b[0m\u001b[0m\n\u001b[0;32m     15\u001b[0m \u001b[1;32mprint\u001b[0m\u001b[1;33m\u001b[0m\u001b[0m\n\u001b[1;32m---> 16\u001b[1;33m clf = GridSearchCV(RandomForestRegressor(random_state=44, loss='ls'), tuned_parameters, \n\u001b[0m\u001b[0;32m     17\u001b[0m                    scoring='mean_absolute_error')\n\u001b[0;32m     18\u001b[0m \u001b[0mclf\u001b[0m\u001b[1;33m.\u001b[0m\u001b[0mfit\u001b[0m\u001b[1;33m(\u001b[0m\u001b[0mX_train\u001b[0m\u001b[1;33m,\u001b[0m \u001b[0my_train\u001b[0m\u001b[1;33m)\u001b[0m\u001b[1;33m\u001b[0m\u001b[0m\n",
      "\u001b[1;31mTypeError\u001b[0m: __init__() got an unexpected keyword argument 'loss'"
     ]
    }
   ],
   "source": [
    "#Gradient Boosting Regressor\n",
    "#n_estimators estimate\n",
    "\n",
    "start_time = time.time()\n",
    "# Set the parameters by cross-validation\n",
    "#tuned_parameters = [{'bootstrap': [True, False],'criterion': [\"gini\", \"entropy\"],'n_estimators': [10, 50, 100, 200, 500]}]\n",
    "tuned_parameters = [{'n_estimators':[10, 50, 100, 200, 500, 600, 750], \n",
    "                     'learning_rate':[0.1,0.2,0.3],'max_depth':[1,2,3,4,5]}]\n",
    "#scores = ['precision', 'recall']\n",
    "\n",
    "#scores = ['precision']\n",
    "#scores = ['f1']\n",
    "\n",
    "#print \"Tuning hyper-parameters for %s\" % score\n",
    "print\n",
    "clf = GridSearchCV(RandomForestRegressor(random_state=44, loss='ls'), tuned_parameters, \n",
    "                   scoring='mean_absolute_error')\n",
    "clf.fit(X_train, y_train)\n",
    "print \"Best parameters set found on training set:\"\n",
    "print\n",
    "print clf.best_params_ \n",
    "print\n",
    "y_true, y_pred = y_test, clf.predict(X_test)\n",
    "#y_true=y_true.astype('float64')\n",
    "#print \"Confusion matrix:\"\n",
    "#print\n",
    "#print confusion_matrix(y_true, \n",
    "+-y_pred)\n",
    "#print\n",
    "#print \"Classification report:\"\n",
    "#print classification_report(y_true, y_pred)\n",
    "print \"Mean Absolute Error:\"\n",
    "print\n",
    "print metrics.mean_absolute_error(y_true, y_pred)\n",
    "print\n",
    "print \"The model is trained on the training set. The scores are computed on the testing set.\"\n",
    "print(\"--- %s seconds ---\" % (time.time() - start_time))"
   ]
  },
  {
   "cell_type": "code",
   "execution_count": null,
   "metadata": {
    "collapsed": true
   },
   "outputs": [],
   "source": [
    "#Ridge Regressor\n",
    "#n_estimators estimate\n",
    "\n",
    "start_time = time.time()\n",
    "# Set the parameters by cross-validation\n",
    "#tuned_parameters = [{'bootstrap': [True, False],'criterion': [\"gini\", \"entropy\"],'n_estimators': [10, 50, 100, 200, 500]}]\n",
    "tuned_parameters = [{'alpha':[0.1, 0.2,0.3,0.4, 0.5,0.6, 0.7], \n",
    "                     'fit_intercept':[True,False],'normalize':[True,False],'tol':[0.1,0.01,0.001,0.0001]}]\n",
    "#scores = ['precision', 'recall']\n",
    "\n",
    "#scores = ['precision']\n",
    "#scores = ['f1']\n",
    "\n",
    "#print \"Tuning hyper-parameters for %s\" % score\n",
    "print\n",
    "clf = GridSearchCV(Ridge(copy_X=True,random_state=44, solver='auto'), tuned_parameters, \n",
    "                   scoring='mean_absolute_error')\n",
    "clf.fit(X_train, y_train)\n",
    "print \"Best parameters set found on training set:\"\n",
    "print\n",
    "print clf.best_params_ \n",
    "print\n",
    "y_true, y_pred = y_test, clf.predict(X_test)\n",
    "#y_true=y_true.astype('float64')\n",
    "#print \"Confusion matrix:\"\n",
    "#print\n",
    "#print confusion_matrix(y_true, y_pred)\n",
    "#print\n",
    "#print \"Classification report:\"\n",
    "#print classification_report(y_true, y_pred)\n",
    "print \"Mean Absolute Error:\"\n",
    "print\n",
    "print metrics.mean_absolute_error(y_true, y_pred)\n",
    "print\n",
    "print \"The model is trained on the training set. The scores are computed on the testing set.\"\n",
    "print(\"--- %s seconds ---\" % (time.time() - start_time))"
   ]
  },
  {
   "cell_type": "code",
   "execution_count": null,
   "metadata": {
    "collapsed": true
   },
   "outputs": [],
   "source": []
  }
 ],
 "metadata": {
  "anaconda-cloud": {},
  "kernelspec": {
   "display_name": "Python [Root]",
   "language": "python",
   "name": "Python [Root]"
  },
  "language_info": {
   "codemirror_mode": {
    "name": "ipython",
    "version": 2
   },
   "file_extension": ".py",
   "mimetype": "text/x-python",
   "name": "python",
   "nbconvert_exporter": "python",
   "pygments_lexer": "ipython2",
   "version": "2.7.12"
  }
 },
 "nbformat": 4,
 "nbformat_minor": 1
}
