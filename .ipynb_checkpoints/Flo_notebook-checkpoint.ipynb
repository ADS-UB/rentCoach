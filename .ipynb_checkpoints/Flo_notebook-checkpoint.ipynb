{
 "cells": [
  {
   "cell_type": "code",
   "execution_count": 108,
   "metadata": {
    "collapsed": true
   },
   "outputs": [],
   "source": [
    "import pandas as pd\n",
    "import numpy as np\n",
    "import matplotlib.pyplot as plt\n",
    "data=pd.read_csv(\"update_rentdata_26102016.csv\",sep=\",\")"
   ]
  },
  {
   "cell_type": "code",
   "execution_count": 109,
   "metadata": {
    "collapsed": true
   },
   "outputs": [],
   "source": [
    "###Removing the header every 50 rows and the features to drop to be able to work with the data.\n",
    "data=data[data['propertyCode']!='propertyCode']\n",
    "data=data.drop(['operation','address','country','distance','tenantGender','tenantNumber','isSmokingAllowed'], axis=1)"
   ]
  },
  {
   "cell_type": "code",
   "execution_count": 110,
   "metadata": {
    "collapsed": false
   },
   "outputs": [],
   "source": [
    "#Converting some selected features to float\n",
    "tofloat=['price','priceByArea','numPhotos','size','propertyCode','rooms']\n",
    "###To be used when the floor feature is only numeric:\n",
    "###tofloat=['price','priceByArea','numPhotos','size','propertyCode','rooms','floor']\n",
    "for col in tofloat:\n",
    "    data[col]=data[col].astype(float)"
   ]
  },
  {
   "cell_type": "code",
   "execution_count": 111,
   "metadata": {
    "collapsed": false
   },
   "outputs": [],
   "source": [
    "#Converting some dummy features to 0 or 1\n",
    "    \n",
    "def truedummy(feature,df):\n",
    "    dummies_numpy = np.where(df[feature]=='True',1,0)\n",
    "    df[feature]= dummies_numpy\n",
    "    \n",
    "to_zero_or_one=[\"exterior\",\"showAddress\",\"hasVideo\",\"newDevelopment\",\"hasLift\"]\n",
    "for col in to_zero_or_one:\n",
    "    truedummy(col,data)\n",
    "    ###For analytics purposes:\n",
    "    ###print col\n",
    "    ###print plt.hist(data[col], bins=[0,1,2])\n",
    "    ###plt.show()"
   ]
  },
  {
   "cell_type": "code",
   "execution_count": 113,
   "metadata": {
    "collapsed": false
   },
   "outputs": [],
   "source": [
    "data.to_csv(\"version1.csv\")"
   ]
  }
 ],
 "metadata": {
  "anaconda-cloud": {},
  "kernelspec": {
   "display_name": "Python [default]",
   "language": "python",
   "name": "python2"
  },
  "language_info": {
   "codemirror_mode": {
    "name": "ipython",
    "version": 2
   },
   "file_extension": ".py",
   "mimetype": "text/x-python",
   "name": "python",
   "nbconvert_exporter": "python",
   "pygments_lexer": "ipython2",
   "version": "2.7.12"
  }
 },
 "nbformat": 4,
 "nbformat_minor": 0
}
