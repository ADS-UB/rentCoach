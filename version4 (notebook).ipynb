{
 "cells": [
  {
   "cell_type": "code",
   "execution_count": 22,
   "metadata": {
    "collapsed": false
   },
   "outputs": [
    {
     "name": "stderr",
     "output_type": "stream",
     "text": [
      "C:\\Program Files\\Anaconda2\\lib\\site-packages\\ipykernel\\__main__.py:53: SettingWithCopyWarning: \n",
      "A value is trying to be set on a copy of a slice from a DataFrame\n",
      "\n",
      "See the caveats in the documentation: http://pandas.pydata.org/pandas-docs/stable/indexing.html#indexing-view-versus-copy\n"
     ]
    }
   ],
   "source": [
    "import pandas as pd\n",
    "import numpy as np\n",
    "import matplotlib.pyplot as plt\n",
    "\n",
    "# load data\n",
    "data = pd.read_csv(\"version_nueva.csv\",sep=\",\",encoding=\"utf-8\")\n",
    "\n",
    "# drop some features\n",
    "data = data.drop(['propertyCode','thumbnail','url','district','province',\n",
    "                  'newDevelopment','title','subtitle',\n",
    "                  'externalReference','priceByArea','propertyType'],axis=1)\n",
    "\n",
    "\n",
    "# replace string by numbers in 'floor' column\n",
    "data['floor']=data['floor'].fillna(value='0')\n",
    "data = data.replace(to_replace='bj', value='0', inplace=False, limit=None, regex=False, method='pad', axis=None)\n",
    "data = data.replace(to_replace='en', value='1', inplace=False, limit=None, regex=False, method='pad', axis=None)\n",
    "data = data.replace(to_replace='ss', value='-1', inplace=False, limit=None, regex=False, method='pad', axis=None)\n",
    "data = data.replace(to_replace='st', value='-1', inplace=False, limit=None, regex=False, method='pad', axis=None)\n",
    "\n",
    "#Converting some selected features to float\n",
    "tofloat=['price','size','rooms','floor','bathrooms','exterior']\n",
    "###To be used when the floor feature is only numeric:\n",
    "###tofloat=['price','priceByArea','numPhotos','size','propertyCode','rooms','floor']\n",
    "for col in tofloat:\n",
    "    data[col]=data[col].astype(float)\n",
    "\n",
    "#Take only municipality Barcelona\n",
    "data = data[data['municipality']=='Barcelona']\n",
    "data = data.drop(['municipality'], axis=1)\n",
    "\n",
    "################\n",
    "#NEW IN VERSION 4:\n",
    "# 1. Add priceperarea data from the Open data BCN external file\n",
    "\n",
    "dataprice=pd.read_csv(\"LLOGUER_MITJA_MENSUAL_2016_edited.csv\", encoding=\"utf-8\")\n",
    "price_columns_name=[\"area\",\"priceperarea\"]\n",
    "dataprice.columns=price_columns_name\n",
    "dataprice.loc[:,('priceperarea')] = dataprice.loc[:,('priceperarea')].map(lambda x:x.replace(',',''))\n",
    "dataprice.loc[:,('priceperarea')] = pd.to_numeric(dataprice.loc[:,('priceperarea')])\n",
    "\n",
    "left=data\n",
    "right=dataprice\n",
    "data=pd.merge(left, right, how='left', on=None, left_on=\"neighborhood\", right_on=\"area\")\n",
    "data = data.drop(['area'], axis=1)\n",
    "\n",
    "# 2. Add a combinated column about typology\n",
    "data['typologycombined'] = np.where(data['subTypology'].isnull(), \"type_\" + data[\"typology\"], \"type_\" + data[\"typology\"] +\"_\"+ data[\"subTypology\"])\n",
    "data = data.drop(['typology'], axis=1)\n",
    "data = data.drop(['subTypology'], axis=1)\n",
    "################\n",
    "\n",
    "data['floor'][data['floor']==1000]=0.0\n",
    "\n",
    "def dummies_for(data, cols, binary=None):\n",
    "    for col in cols:\n",
    "            data = pd.concat((data, pd.get_dummies(data[col]).astype(np.int32)), axis=1)\n",
    "            data = data.drop(col, axis=1)   \n",
    "    return data\n",
    "\n",
    "data = dummies_for(data,  ['typologycombined'])\n",
    "data = dummies_for(data,  ['status'])\n",
    "#data = dummies_for(data,  ['neighborhood'])\n",
    "data = data.drop(['neighborhood'], axis=1)\n",
    "\n",
    "\n",
    "data.to_csv(\"version4.csv\",encoding=\"utf-8\",index=False)"
   ]
  }
 ],
 "metadata": {
  "anaconda-cloud": {},
  "kernelspec": {
   "display_name": "Python [default]",
   "language": "python",
   "name": "python2"
  },
  "language_info": {
   "codemirror_mode": {
    "name": "ipython",
    "version": 2
   },
   "file_extension": ".py",
   "mimetype": "text/x-python",
   "name": "python",
   "nbconvert_exporter": "python",
   "pygments_lexer": "ipython2",
   "version": "2.7.12"
  }
 },
 "nbformat": 4,
 "nbformat_minor": 1
}
