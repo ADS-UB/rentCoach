{
 "cells": [
  {
   "cell_type": "code",
   "execution_count": 29,
   "metadata": {
    "collapsed": false
   },
   "outputs": [],
   "source": [
    "import pandas as pd\n",
    "import numpy as np\n",
    "import matplotlib.pyplot as plt\n",
    "\n",
    "# load data\n",
    "data = pd.read_csv(\"version_nueva.csv\",sep=\",\")\n",
    "\n",
    "# delete lines containing header again (ev. 50 row approx.)\n",
    "#data = data[data['propertyCode']!='propertyCode']\n",
    "\n",
    "# drop some features\n",
    "data = data.drop(['propertyCode','thumbnail','url','district','neighborhood','province',\n",
    "                  'showAddress','hasVideo','newDevelopment','numPhotos','title','subtitle',\n",
    "                  'subTypology','externalReference','priceByArea', 'typology'],axis=1)\n",
    "\n",
    "\n",
    "# replace string by numbers in 'floor' column\n",
    "data['floor']=data['floor'].fillna(value='0')\n",
    "data = data.replace(to_replace='bj', value='0', inplace=False, limit=None, regex=False, method='pad', axis=None)\n",
    "data = data.replace(to_replace='en', value='1', inplace=False, limit=None, regex=False, method='pad', axis=None)\n",
    "data = data.replace(to_replace='ss', value='-1', inplace=False, limit=None, regex=False, method='pad', axis=None)\n",
    "data = data.replace(to_replace='st', value='-1', inplace=False, limit=None, regex=False, method='pad', axis=None)\n",
    "\n",
    "#Converting some selected features to float\n",
    "tofloat=['price','size','rooms','floor','bathrooms','exterior']\n",
    "###To be used when the floor feature is only numeric:\n",
    "###tofloat=['price','priceByArea','numPhotos','size','propertyCode','rooms','floor']\n",
    "for col in tofloat:\n",
    "    data[col]=data[col].astype(float)\n",
    "\n",
    "#Take only municipality Barcelona\n",
    "data = data[data['municipality']=='Barcelona']\n",
    "data = data.drop(['municipality'], axis=1)\n",
    "\n",
    "#remove outliers price\n",
    "per=np.percentile(np.array(data['price']), [2.5, 97.5])\n",
    "data=data[data['price']>per[0]]\n",
    "data=data[data['price']<per[1]]\n",
    "\n",
    "data['floor'][data['floor']==1000]=0.0\n",
    "\n",
    "def dummies_for(data, cols, binary=None):\n",
    "    for col in cols:\n",
    "            data = pd.concat((data, pd.get_dummies(data[col]).astype(np.int32)), axis=1)\n",
    "            data = data.drop(col, axis=1)   \n",
    "    return data\n",
    "\n",
    "data = dummies_for(data,  ['propertyType'])\n",
    "data = dummies_for(data,  ['status'])\n",
    "\n",
    "data.to_csv(\"version3.csv\")"
   ]
  },
  {
   "cell_type": "code",
   "execution_count": null,
   "metadata": {
    "collapsed": false
   },
   "outputs": [],
   "source": []
  },
  {
   "cell_type": "code",
   "execution_count": null,
   "metadata": {
    "collapsed": false
   },
   "outputs": [],
   "source": []
  },
  {
   "cell_type": "code",
   "execution_count": null,
   "metadata": {
    "collapsed": true
   },
   "outputs": [],
   "source": []
  }
 ],
 "metadata": {
  "anaconda-cloud": {},
  "kernelspec": {
   "display_name": "Python 2",
   "language": "python",
   "name": "python2"
  }
 },
 "nbformat": 4,
 "nbformat_minor": 1
}
