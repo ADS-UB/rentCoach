{
 "cells": [
  {
   "cell_type": "code",
   "execution_count": 15,
   "metadata": {
    "collapsed": false
   },
   "outputs": [
    {
     "data": {
      "text/plain": [
       "Index([u'rooms', u'bathrooms', u'exterior', u'size', u'floor', u'longitude',\n",
       "       u'latitude', u'price'],\n",
       "      dtype='object')"
      ]
     },
     "execution_count": 15,
     "metadata": {},
     "output_type": "execute_result"
    }
   ],
   "source": [
    "import time\n",
    "import pandas as pd\n",
    "import numpy as np\n",
    "\n",
    "from sklearn.grid_search import GridSearchCV\n",
    "from sklearn.ensemble import RandomForestRegressor\n",
    "from sklearn.linear_model import LinearRegression\n",
    "from sklearn import metrics\n",
    "from sklearn.cross_validation import train_test_split\n",
    "from sklearn.preprocessing import StandardScaler\n",
    "\n",
    "data = pd.read_csv('version3.csv')\n",
    "\n",
    "data= data.drop(['Unnamed: 0', 'newdevelopment', u'hasParkingSpace', u'isParkingSpaceIncludedInPrice', \n",
    "                 u'chalet', u'duplex', u'flat', u'penthouse', u'studio', u'good', u'renew', u'hasLift'], axis=1)\n",
    "\n",
    "#preu_park_noinclos\n",
    "#preu_park_noinclos=((data['hasParkingSpace']!=data['isParkingSpaceIncludedInPrice']).astype(float))\n",
    "#data=pd.concat((data,preu_park_noinclos),axis=1)\n",
    "#data.drop(\"isParkingSpaceIncludedInPrice\",axis=1)\n",
    "\n",
    "data.columns"
   ]
  },
  {
   "cell_type": "code",
   "execution_count": 16,
   "metadata": {
    "collapsed": true
   },
   "outputs": [],
   "source": [
    "y =data['price']\n",
    "X = data.drop(['price'], axis=1)\n",
    "X=np.array(X)\n",
    "y=np.array(y)\n",
    "\n",
    "X_train, X_test, y_train, y_test = train_test_split(X, y, test_size=0.2, random_state=44)\n",
    "\n",
    "#StandardScaler\n",
    "#scaler = StandardScaler()\n",
    "#X_train = scaler.fit_transform(X_train)\n",
    "#X_test = scaler.transform(X_test)"
   ]
  },
  {
   "cell_type": "code",
   "execution_count": 17,
   "metadata": {
    "collapsed": false
   },
   "outputs": [
    {
     "name": "stdout",
     "output_type": "stream",
     "text": [
      "\n",
      "Best parameters set found on training set:\n",
      "\n",
      "{'normalize': False}\n",
      "\n",
      "Mean Absolute Error:\n",
      "\n",
      "493.920408296\n",
      "\n",
      "The model is trained on the training set. The scores are computed on the testing set.\n"
     ]
    }
   ],
   "source": [
    "#Linear regression\n",
    "\n",
    "# Set the parameters by cross-validation\n",
    "#tuned_parameters = [{'bootstrap': [True, False],'criterion': [\"gini\", \"entropy\"],'n_estimators': [10, 50, 100, 200, 500]}]\n",
    "tuned_parameters = [{'normalize' : [True,False]}]\n",
    "#scores = ['precision', 'recall']\n",
    "\n",
    "#scores = ['precision']\n",
    "#scores = ['f1']\n",
    "\n",
    "#print \"Tuning hyper-parameters for %s\" % score\n",
    "print\n",
    "clf = GridSearchCV(LinearRegression(fit_intercept=True), tuned_parameters, cv=10, scoring='neg_mean_absolute_error')\n",
    "clf.fit(X_train, y_train)\n",
    "print \"Best parameters set found on training set:\"\n",
    "print\n",
    "print clf.best_params_ \n",
    "print\n",
    "y_true, y_pred = y_test, clf.predict(X_test)\n",
    "#y_true=y_true.astype('float64')\n",
    "#print \"Confusion matrix:\"\n",
    "#print\n",
    "#print confusion_matrix(y_true, y_pred)\n",
    "#print\n",
    "#print \"Classification report:\"\n",
    "#print classification_report(y_true, y_pred)\n",
    "print \"Mean Absolute Error:\"\n",
    "print\n",
    "print metrics.mean_absolute_error(y_true, y_pred)\n",
    "print\n",
    "print \"The model is trained on the training set. The scores are computed on the testing set.\"\n"
   ]
  },
  {
   "cell_type": "code",
   "execution_count": 18,
   "metadata": {
    "collapsed": false
   },
   "outputs": [
    {
     "name": "stdout",
     "output_type": "stream",
     "text": [
      "\n",
      "Best parameters set found on training set:\n",
      "\n",
      "{'n_estimators': 600, 'bootstrap': True}\n",
      "\n",
      "Mean Absolute Error:\n",
      "\n",
      "320.413104485\n",
      "\n",
      "The model is trained on the training set. The scores are computed on the testing set.\n",
      "--- 227.522797108 seconds ---\n"
     ]
    }
   ],
   "source": [
    "#Random Forest Regressor\n",
    "#n_estimators estimate\n",
    "\n",
    "start_time = time.time()\n",
    "# Set the parameters by cross-validation\n",
    "#tuned_parameters = [{'bootstrap': [True, False],'criterion': [\"gini\", \"entropy\"],'n_estimators': [10, 50, 100, 200, 500]}]\n",
    "tuned_parameters = [{'bootstrap': [True, False],\n",
    "                     'n_estimators': [10, 50, 100, 200, 500, 600, 750]}]\n",
    "#scores = ['precision', 'recall']\n",
    "\n",
    "#scores = ['precision']\n",
    "#scores = ['f1']\n",
    "\n",
    "#print \"Tuning hyper-parameters for %s\" % score\n",
    "print\n",
    "clf = GridSearchCV(RandomForestRegressor(n_estimators=10, random_state=44, n_jobs=-1), tuned_parameters, cv=10, \n",
    "                   scoring='neg_mean_absolute_error')\n",
    "clf.fit(X_train, y_train)\n",
    "print \"Best parameters set found on training set:\"\n",
    "print\n",
    "print clf.best_params_ \n",
    "print\n",
    "y_true, y_pred = y_test, clf.predict(X_test)\n",
    "#y_true=y_true.astype('float64')\n",
    "#print \"Confusion matrix:\"\n",
    "#print\n",
    "#print confusion_matrix(y_true, y_pred)\n",
    "#print\n",
    "#print \"Classification report:\"\n",
    "#print classification_report(y_true, y_pred)\n",
    "print \"Mean Absolute Error:\"\n",
    "print\n",
    "print metrics.mean_absolute_error(y_true, y_pred)\n",
    "print\n",
    "print \"The model is trained on the training set. The scores are computed on the testing set.\"\n",
    "print(\"--- %s seconds ---\" % (time.time() - start_time))"
   ]
  },
  {
   "cell_type": "code",
   "execution_count": 19,
   "metadata": {
    "collapsed": false
   },
   "outputs": [
    {
     "name": "stdout",
     "output_type": "stream",
     "text": [
      "\n",
      "Best parameters set found on training set:\n",
      "\n",
      "{'n_estimators': 500, 'bootstrap': True}\n",
      "\n",
      "Mean Absolute Error:\n",
      "\n",
      "311.733302312\n",
      "\n",
      "The model is trained on the training set. The scores are computed on the testing set.\n",
      "--- 292.039464951 seconds ---\n"
     ]
    }
   ],
   "source": [
    "#Random Forest Regressor\n",
    "#n_estimators estimate\n",
    "\n",
    "start_time = time.time()\n",
    "# Set the parameters by cross-validation\n",
    "#tuned_parameters = [{'bootstrap': [True, False],'criterion': [\"gini\", \"entropy\"],'n_estimators': [10, 50, 100, 200, 500]}]\n",
    "tuned_parameters = [{'bootstrap': [True, False],\n",
    "                     'n_estimators': [400, 450, 500, 550, 600]}]\n",
    "#scores = ['precision', 'recall']\n",
    "\n",
    "#scores = ['precision']\n",
    "#scores = ['f1']\n",
    "\n",
    "#print \"Tuning hyper-parameters for %s\" % score\n",
    "print\n",
    "clf = GridSearchCV(RandomForestRegressor(n_estimators=10, random_state=44, n_jobs=-1), tuned_parameters, cv=10, \n",
    "                   scoring='neg_mean_absolute_error')\n",
    "clf.fit(X_train, y_train)\n",
    "print \"Best parameters set found on training set:\"\n",
    "print\n",
    "print clf.best_params_ \n",
    "print\n",
    "y_true, y_pred = y_test, clf.predict(X_test)\n",
    "#y_true=y_true.astype('float64')\n",
    "#print \"Confusion matrix:\"\n",
    "#print\n",
    "#print confusion_matrix(y_true, y_pred)\n",
    "#print\n",
    "#print \"Classification report:\"\n",
    "#print classification_report(y_true, y_pred)\n",
    "print \"Mean Absolute Error:\"\n",
    "print\n",
    "print metrics.mean_absolute_error(y_true, y_pred)\n",
    "print\n",
    "print \"The model is trained on the training set. The scores are computed on the testing set.\"\n",
    "print(\"--- %s seconds ---\" % (time.time() - start_time))"
   ]
  },
  {
   "cell_type": "code",
   "execution_count": 20,
   "metadata": {
    "collapsed": false
   },
   "outputs": [
    {
     "name": "stdout",
     "output_type": "stream",
     "text": [
      "\n",
      "Best parameters set found on training set:\n",
      "\n",
      "{'n_estimators': 500, 'bootstrap': True}\n",
      "\n",
      "Mean Absolute Error:\n",
      "\n",
      "311.733302312\n",
      "\n",
      "The model is trained on the training set. The scores are computed on the testing set.\n",
      "--- 181.497886896 seconds ---\n"
     ]
    }
   ],
   "source": [
    "#Random Forest Regressor\n",
    "#n_estimators estimate\n",
    "\n",
    "start_time = time.time()\n",
    "# Set the parameters by cross-validation\n",
    "#tuned_parameters = [{'bootstrap': [True, False],'criterion': [\"gini\", \"entropy\"],'n_estimators': [10, 50, 100, 200, 500]}]\n",
    "tuned_parameters = [{'bootstrap': [True, False],\n",
    "                     'n_estimators': [475, 500, 525]}]\n",
    "#scores = ['precision', 'recall']\n",
    "\n",
    "#scores = ['precision']\n",
    "#scores = ['f1']\n",
    "\n",
    "#print \"Tuning hyper-parameters for %s\" % score\n",
    "print\n",
    "clf = GridSearchCV(RandomForestRegressor(n_estimators=10, random_state=44, n_jobs=-1), tuned_parameters, cv=10, \n",
    "                   scoring='neg_mean_absolute_error')\n",
    "clf.fit(X_train, y_train)\n",
    "print \"Best parameters set found on training set:\"\n",
    "print\n",
    "print clf.best_params_ \n",
    "print\n",
    "y_true, y_pred = y_test, clf.predict(X_test)\n",
    "#y_true=y_true.astype('float64')\n",
    "#print \"Confusion matrix:\"\n",
    "#print\n",
    "#print confusion_matrix(y_true, y_pred)\n",
    "#print\n",
    "#print \"Classification report:\"\n",
    "#print classification_report(y_true, y_pred)\n",
    "print \"Mean Absolute Error:\"\n",
    "print\n",
    "print metrics.mean_absolute_error(y_true, y_pred)\n",
    "print\n",
    "print \"The model is trained on the training set. The scores are computed on the testing set.\"\n",
    "print(\"--- %s seconds ---\" % (time.time() - start_time))"
   ]
  },
  {
   "cell_type": "code",
   "execution_count": 21,
   "metadata": {
    "collapsed": false
   },
   "outputs": [
    {
     "name": "stdout",
     "output_type": "stream",
     "text": [
      "\n",
      "Best parameters set found on training set:\n",
      "\n",
      "{'n_estimators': 500, 'bootstrap': True, 'min_samples_leaf': 1}\n",
      "\n",
      "Mean Absolute Error:\n",
      "\n",
      "311.733302312\n",
      "\n",
      "The model is trained on the training set. The scores are computed on the testing set.\n",
      "--- 803.771924019 seconds ---\n"
     ]
    }
   ],
   "source": [
    "#Random Forest Regressor\n",
    "#min_samples_leaf estimate\n",
    "\n",
    "start_time = time.time()\n",
    "# Set the parameters by cross-validation\n",
    "#tuned_parameters = [{'bootstrap': [True, False],'criterion': [\"gini\", \"entropy\"],'n_estimators': [10, 50, 100, 200, 500]}]\n",
    "tuned_parameters = [{'bootstrap': [True, False],\n",
    "                     'n_estimators': [475, 500, 525],\n",
    "                     'min_samples_leaf': [1, 5, 10, 50, 100, 200]}]\n",
    "#scores = ['precision', 'recall']\n",
    "\n",
    "#scores = ['precision']\n",
    "#scores = ['f1']\n",
    "\n",
    "#print \"Tuning hyper-parameters for %s\" % score\n",
    "print\n",
    "clf = GridSearchCV(RandomForestRegressor(n_estimators=10, random_state=44, n_jobs=-1), tuned_parameters, cv=10, \n",
    "                   scoring='neg_mean_absolute_error')\n",
    "clf.fit(X_train, y_train)\n",
    "print \"Best parameters set found on training set:\"\n",
    "print\n",
    "print clf.best_params_ \n",
    "print\n",
    "y_true, y_pred = y_test, clf.predict(X_test)\n",
    "#y_true=y_true.astype('float64')\n",
    "#print \"Confusion matrix:\"\n",
    "#print\n",
    "#print confusion_matrix(y_true, y_pred)\n",
    "#print\n",
    "#print \"Classification report:\"\n",
    "#print classification_report(y_true, y_pred)\n",
    "print \"Mean Absolute Error:\"\n",
    "print\n",
    "print metrics.mean_absolute_error(y_true, y_pred)\n",
    "print\n",
    "print \"The model is trained on the training set. The scores are computed on the testing set.\"\n",
    "print(\"--- %s seconds ---\" % (time.time() - start_time))"
   ]
  },
  {
   "cell_type": "code",
   "execution_count": null,
   "metadata": {
    "collapsed": true
   },
   "outputs": [],
   "source": []
  }
 ],
 "metadata": {
  "kernelspec": {
   "display_name": "Python 2",
   "language": "python",
   "name": "python2"
  },
  "language_info": {
   "codemirror_mode": {
    "name": "ipython",
    "version": 2
   },
   "file_extension": ".py",
   "mimetype": "text/x-python",
   "name": "python",
   "nbconvert_exporter": "python",
   "pygments_lexer": "ipython2",
   "version": "2.7.12"
  }
 },
 "nbformat": 4,
 "nbformat_minor": 1
}
