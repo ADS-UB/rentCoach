{
 "cells": [
  {
   "cell_type": "code",
   "execution_count": 24,
   "metadata": {
    "collapsed": false
   },
   "outputs": [],
   "source": [
    "%reset -f\n",
    "import pandas as pd\n",
    "import numpy as np\n",
    "from sklearn.preprocessing import StandardScaler\n",
    "from sklearn import cross_validation\n",
    "from sklearn.cross_validation import train_test_split\n",
    "from sklearn.linear_model import LinearRegression,Ridge\n",
    "from sklearn.ensemble import GradientBoostingRegressor,RandomForestRegressor\n",
    "from sklearn.svm import SVR\n",
    "from math import sqrt\n"
   ]
  },
  {
   "cell_type": "code",
   "execution_count": 26,
   "metadata": {
    "collapsed": false
   },
   "outputs": [
    {
     "data": {
      "text/html": [
       "<div>\n",
       "<table border=\"1\" class=\"dataframe\">\n",
       "  <thead>\n",
       "    <tr style=\"text-align: right;\">\n",
       "      <th></th>\n",
       "      <th>rooms</th>\n",
       "      <th>bathrooms</th>\n",
       "      <th>exterior</th>\n",
       "      <th>hasLift</th>\n",
       "      <th>size</th>\n",
       "      <th>floor</th>\n",
       "      <th>longitude</th>\n",
       "      <th>latitude</th>\n",
       "      <th>hasParkingSpace</th>\n",
       "      <th>isParkingSpaceIncludedInPrice</th>\n",
       "      <th>chalet</th>\n",
       "      <th>duplex</th>\n",
       "      <th>flat</th>\n",
       "      <th>penthouse</th>\n",
       "      <th>studio</th>\n",
       "      <th>good</th>\n",
       "      <th>newdevelopment</th>\n",
       "      <th>renew</th>\n",
       "    </tr>\n",
       "  </thead>\n",
       "  <tbody>\n",
       "    <tr>\n",
       "      <th>0</th>\n",
       "      <td>4.0</td>\n",
       "      <td>2.0</td>\n",
       "      <td>1.0</td>\n",
       "      <td>1.0</td>\n",
       "      <td>125.0</td>\n",
       "      <td>6.0</td>\n",
       "      <td>2.216528</td>\n",
       "      <td>41.408302</td>\n",
       "      <td>1.0</td>\n",
       "      <td>1.0</td>\n",
       "      <td>0</td>\n",
       "      <td>0</td>\n",
       "      <td>1</td>\n",
       "      <td>0</td>\n",
       "      <td>0</td>\n",
       "      <td>1</td>\n",
       "      <td>0</td>\n",
       "      <td>0</td>\n",
       "    </tr>\n",
       "    <tr>\n",
       "      <th>1</th>\n",
       "      <td>3.0</td>\n",
       "      <td>2.0</td>\n",
       "      <td>1.0</td>\n",
       "      <td>1.0</td>\n",
       "      <td>107.0</td>\n",
       "      <td>6.0</td>\n",
       "      <td>2.211622</td>\n",
       "      <td>41.406239</td>\n",
       "      <td>0.0</td>\n",
       "      <td>0.0</td>\n",
       "      <td>0</td>\n",
       "      <td>0</td>\n",
       "      <td>1</td>\n",
       "      <td>0</td>\n",
       "      <td>0</td>\n",
       "      <td>1</td>\n",
       "      <td>0</td>\n",
       "      <td>0</td>\n",
       "    </tr>\n",
       "    <tr>\n",
       "      <th>2</th>\n",
       "      <td>4.0</td>\n",
       "      <td>2.0</td>\n",
       "      <td>1.0</td>\n",
       "      <td>1.0</td>\n",
       "      <td>130.0</td>\n",
       "      <td>1.0</td>\n",
       "      <td>2.177979</td>\n",
       "      <td>41.384283</td>\n",
       "      <td>0.0</td>\n",
       "      <td>0.0</td>\n",
       "      <td>0</td>\n",
       "      <td>0</td>\n",
       "      <td>1</td>\n",
       "      <td>0</td>\n",
       "      <td>0</td>\n",
       "      <td>1</td>\n",
       "      <td>0</td>\n",
       "      <td>0</td>\n",
       "    </tr>\n",
       "    <tr>\n",
       "      <th>3</th>\n",
       "      <td>2.0</td>\n",
       "      <td>1.0</td>\n",
       "      <td>0.0</td>\n",
       "      <td>1.0</td>\n",
       "      <td>70.0</td>\n",
       "      <td>2.0</td>\n",
       "      <td>2.165862</td>\n",
       "      <td>41.397875</td>\n",
       "      <td>0.0</td>\n",
       "      <td>0.0</td>\n",
       "      <td>0</td>\n",
       "      <td>0</td>\n",
       "      <td>1</td>\n",
       "      <td>0</td>\n",
       "      <td>0</td>\n",
       "      <td>1</td>\n",
       "      <td>0</td>\n",
       "      <td>0</td>\n",
       "    </tr>\n",
       "    <tr>\n",
       "      <th>4</th>\n",
       "      <td>3.0</td>\n",
       "      <td>1.0</td>\n",
       "      <td>1.0</td>\n",
       "      <td>1.0</td>\n",
       "      <td>75.0</td>\n",
       "      <td>2.0</td>\n",
       "      <td>2.137820</td>\n",
       "      <td>41.359470</td>\n",
       "      <td>0.0</td>\n",
       "      <td>0.0</td>\n",
       "      <td>0</td>\n",
       "      <td>0</td>\n",
       "      <td>1</td>\n",
       "      <td>0</td>\n",
       "      <td>0</td>\n",
       "      <td>1</td>\n",
       "      <td>0</td>\n",
       "      <td>0</td>\n",
       "    </tr>\n",
       "  </tbody>\n",
       "</table>\n",
       "</div>"
      ],
      "text/plain": [
       "   rooms  bathrooms  exterior  hasLift   size  floor  longitude   latitude  \\\n",
       "0    4.0        2.0       1.0      1.0  125.0    6.0   2.216528  41.408302   \n",
       "1    3.0        2.0       1.0      1.0  107.0    6.0   2.211622  41.406239   \n",
       "2    4.0        2.0       1.0      1.0  130.0    1.0   2.177979  41.384283   \n",
       "3    2.0        1.0       0.0      1.0   70.0    2.0   2.165862  41.397875   \n",
       "4    3.0        1.0       1.0      1.0   75.0    2.0   2.137820  41.359470   \n",
       "\n",
       "   hasParkingSpace  isParkingSpaceIncludedInPrice  chalet  duplex  flat  \\\n",
       "0              1.0                            1.0       0       0     1   \n",
       "1              0.0                            0.0       0       0     1   \n",
       "2              0.0                            0.0       0       0     1   \n",
       "3              0.0                            0.0       0       0     1   \n",
       "4              0.0                            0.0       0       0     1   \n",
       "\n",
       "   penthouse  studio  good  newdevelopment  renew  \n",
       "0          0       0     1               0      0  \n",
       "1          0       0     1               0      0  \n",
       "2          0       0     1               0      0  \n",
       "3          0       0     1               0      0  \n",
       "4          0       0     1               0      0  "
      ]
     },
     "execution_count": 26,
     "metadata": {},
     "output_type": "execute_result"
    }
   ],
   "source": [
    "\n",
    "rentdata = pd.read_csv('version3.csv')\n",
    "y=rentdata['price'].values\n",
    "rentdata=rentdata.drop(['price','Unnamed: 0'],axis=1)\n",
    "rentdata.head()"
   ]
  },
  {
   "cell_type": "markdown",
   "metadata": {},
   "source": [
    "We define the feature we want to predict (price), ant split our training and testing sets."
   ]
  },
  {
   "cell_type": "code",
   "execution_count": 27,
   "metadata": {
    "collapsed": false
   },
   "outputs": [],
   "source": [
    "X=rentdata.values\n",
    "\n",
    "X_train, X_test, y_train, y_test = train_test_split(X, y, test_size=0.1,random_state=44)\n",
    "\n"
   ]
  },
  {
   "cell_type": "code",
   "execution_count": 28,
   "metadata": {
    "collapsed": true
   },
   "outputs": [],
   "source": [
    "scaler = StandardScaler()\n",
    "X_train=scaler.fit_transform(X_train)\n",
    "X_test= scaler.transform(X_test)"
   ]
  },
  {
   "cell_type": "code",
   "execution_count": 29,
   "metadata": {
    "collapsed": false
   },
   "outputs": [
    {
     "name": "stdout",
     "output_type": "stream",
     "text": [
      "(4601L, 18L)\n",
      "(512L, 18L)\n"
     ]
    }
   ],
   "source": [
    "print X_train.shape\n",
    "print X_test.shape\n"
   ]
  },
  {
   "cell_type": "code",
   "execution_count": 30,
   "metadata": {
    "collapsed": true
   },
   "outputs": [],
   "source": [
    "#Creates a vector (x,x^2,x^3,....,x^i)\n",
    "def extend(x,n):\n",
    "    x_extend=x\n",
    "    for i in range(1,n): x_extend=np.c_[x_extend,x**(i+1)]\n",
    "    return x_extend"
   ]
  },
  {
   "cell_type": "code",
   "execution_count": 31,
   "metadata": {
    "collapsed": true
   },
   "outputs": [],
   "source": [
    "#Root mean squared error\n",
    "def rmse(y,yhat):\n",
    "    dif=y-yhat\n",
    "    N=len(y)\n",
    "    return sqrt((1./N)*np.dot(dif.T,dif))\n",
    "\n"
   ]
  },
  {
   "cell_type": "code",
   "execution_count": 32,
   "metadata": {
    "collapsed": true
   },
   "outputs": [],
   "source": [
    "CMAX=20\n",
    "Err=np.zeros((CMAX,4,2))\n",
    "reg_meth=['Linear Regression','Ridge regressor','Random Forest Regressor','Gradient Boosting Regressor']\n"
   ]
  },
  {
   "cell_type": "code",
   "execution_count": 33,
   "metadata": {
    "collapsed": false
   },
   "outputs": [],
   "source": [
    "#Linear Regressor\n",
    "lreg = LinearRegression(fit_intercept=True,normalize=False)\n",
    "for i in range(CMAX):\n",
    "    lreg.fit(extend(X_train,i+1),y_train)\n",
    "    yhat_in=lreg.predict(extend(X_train,i+1))\n",
    "    Err[i,0,0]=rmse(y_train,yhat_in)\n",
    "    yhat_out=lreg.predict(extend(X_test,i+1))\n",
    "    Err[i,0,1]=rmse(y_test,yhat_out)"
   ]
  },
  {
   "cell_type": "code",
   "execution_count": 35,
   "metadata": {
    "collapsed": false
   },
   "outputs": [],
   "source": [
    "#Ridge Regressor\n",
    "rid = Ridge(normalize= False, alpha= 0.7, tol= 0.1, fit_intercept= True)\n",
    "for i in range(CMAX):\n",
    "    rid.fit(extend(X_train,i+1), y_train)\n",
    "    yhat_in=rid.predict(extend(X_train,i+1))\n",
    "    Err[i,1,0]=rmse(y_train,yhat_in)\n",
    "    yhat_out=rid.predict(extend(X_test,i+1))\n",
    "    Err[i,1,1]=rmse(y_test,yhat_out)"
   ]
  },
  {
   "cell_type": "code",
   "execution_count": 36,
   "metadata": {
    "collapsed": false
   },
   "outputs": [],
   "source": [
    "#Random Forest Regressor\n",
    "rfr = RandomForestRegressor(n_estimators=500,bootstrap=True)\n",
    "rfr.fit(X_train, y_train)\n",
    "yhat_in=rfr.predict(X_train)\n",
    "yhat_out=rfr.predict(X_test)\n",
    "for i in range(CMAX):\n",
    "    Err[i,2,0]=rmse(y_train,yhat_in)\n",
    "    Err[i,2,1]=rmse(y_test,yhat_out)"
   ]
  },
  {
   "cell_type": "code",
   "execution_count": 37,
   "metadata": {
    "collapsed": false
   },
   "outputs": [],
   "source": [
    "#Gradient Boosting Regressor\n",
    "gbr=GradientBoostingRegressor(n_estimators=200, max_depth=5)\n",
    "gbr.fit(X_train, y_train)\n",
    "yhat_in=gbr.predict(X_train)\n",
    "yhat_out=gbr.predict(X_test)\n",
    "for i in range(CMAX):\n",
    "   Err[i,3,0]=rmse(y_train,yhat_in)\n",
    "   Err[i,3,1]=rmse(y_test,yhat_out)\n",
    "    \n",
    "    "
   ]
  },
  {
   "cell_type": "code",
   "execution_count": 38,
   "metadata": {
    "collapsed": false
   },
   "outputs": [
    {
     "name": "stdout",
     "output_type": "stream",
     "text": [
      "168.975267613 439.784296716\n",
      "[0 2]\n",
      "[0 2]\n"
     ]
    }
   ],
   "source": [
    "Ein_min=Err[:,:,0].min()\n",
    "Eout_min=Err[:,:,1].min()\n",
    "idx_inmin=np.asarray([np.where(Err[:,:,0]==Ein_min)[0][0],np.where(Err[:,:,0]==Ein_min)[1][0]])\n",
    "idx_outmin=np.asarray([np.where(Err[:,:,1]==Eout_min)[0][0],np.where(Err[:,:,1]==Eout_min)[1][0]])\n",
    "print Ein_min,Eout_min\n",
    "print idx_inmin\n",
    "print idx_outmin"
   ]
  },
  {
   "cell_type": "code",
   "execution_count": 41,
   "metadata": {
    "collapsed": false,
    "scrolled": true
   },
   "outputs": [
    {
     "name": "stdout",
     "output_type": "stream",
     "text": [
      "     \t Linear Regressor \t\t         Ridge Regressor \n",
      "C    \t  Ein            Eout     \t       Ein           Eout \n",
      "1    628.298128808   618.733277508 \t  628.298134883   618.730411672\n",
      "2    548.5669234   554.686122787 \t  548.567712622   554.729736094\n",
      "3    544.013404279   548.650328058 \t  544.015076935   548.701035419\n",
      "4    536.780239295   544.69165192 \t  536.781530353   544.750452429\n",
      "5    528.677779334   536.241980801 \t  528.692091924   536.277080132\n",
      "6    527.017227449   536.803116002 \t  527.068618198   536.766380773\n",
      "7    524.878698252   536.590965465 \t  524.959804778   536.653274905\n",
      "8    525.334325323   536.348963999 \t  524.163208768   537.702922709\n",
      "9    542.090265887   551.654342095 \t  556.286114249   564.325665582\n",
      "10    905.460752849   838.256690042 \t  3041.37586193   2489.22407104\n",
      "11    1943.79601778   1617.50545004 \t  849.982050866   848.616815403\n",
      "12    830.259071488   768.436822217 \t  840.823510335   777.242999803\n",
      "13    781.697522187   776.026894746 \t  899.705105853   777.732936126\n",
      "14    828.384224825   794.91052204 \t  1088.83445408   832.399134974\n",
      "15    811.71977361   786.486143539 \t  914.975565936   839.124442793\n",
      "16    823.317566383   787.515058453 \t  1305.46942198   792.608143708\n",
      "17    989.218537547   840.117867587 \t  1067.048922   891.413296968\n",
      "18    923.270635757   839.505538911 \t  1095.93534528   877.843543825\n",
      "19    1103.55412357   809.298928739 \t  843.17317061   803.898740808\n",
      "20    904.689835593   850.519510726 \t  1056.79330013   898.447312951\n",
      "\n",
      "\n",
      "     \t  Random Forest Regressor \t Gradient Boosting Regressor\n",
      "     \t  Ein         Eout            \t  Ein           Eout   \n",
      "    168.975267613   439.784296716   321.301188533   447.660399328\n",
      "\n",
      "\n",
      "The minimum Ein is 168.975267613 for Random Forest Regressor ,complexity 1\n",
      "\n",
      "\n",
      "The minimum Eout is 439.784296716 for Random Forest Regressor ,complexity 1\n"
     ]
    }
   ],
   "source": [
    "print '     \\t Linear Regressor \\t\\t         Ridge Regressor '\n",
    "print 'C    \\t  Ein            Eout     \\t       Ein           Eout '\n",
    "for i in range(CMAX):\n",
    "    print  i+1,'  ',Err[i,0,0],' ',Err[i,0,1],'\\t ',Err[i,1,0],' ',Err[i,1,1]\n",
    "print '\\n\\n     \\t  Random Forest Regressor \\t Gradient Boosting Regressor'\n",
    "print '     \\t  Ein         Eout            \\t  Ein           Eout   '\n",
    "print '   ',Err[i,2,0],' ',Err[i,2,1],' ',Err[i,3,0],' ',Err[i,3,1]\n",
    "\n",
    "print '\\n\\nThe minimum Ein is',Ein_min,'for',reg_meth[idx_inmin[1]],',complexity',idx_inmin[0]+1\n",
    "print '\\n\\nThe minimum Eout is',Eout_min,'for',reg_meth[idx_outmin[1]],',complexity',idx_outmin[0]+1  "
   ]
  },
  {
   "cell_type": "code",
   "execution_count": 42,
   "metadata": {
    "collapsed": false
   },
   "outputs": [
    {
     "name": "stdout",
     "output_type": "stream",
     "text": [
      "Ein= 167.009556663\n"
     ]
    }
   ],
   "source": [
    "X_scaled=scaler.fit_transform(X)\n",
    "if idx_outmin[1]==0: freg = lreg\n",
    "if idx_outmin[1]==1: freg = rid \n",
    "if idx_outmin[1]==2: freg = rfr \n",
    "if idx_outmin[1]==3: freg = gbr\n",
    "i=idx_outmin[0]\n",
    "freg.fit(extend(X_scaled,i+1),y)\n",
    "yhat_in=freg.predict(extend(X_scaled,i+1))\n",
    "Ein=rmse(y,yhat_in)\n",
    "#yhat_out=freg.predict()\n",
    "\n",
    "print 'Ein=',Ein#,'\\t Eout=',Eout"
   ]
  },
  {
   "cell_type": "code",
   "execution_count": null,
   "metadata": {
    "collapsed": true
   },
   "outputs": [],
   "source": []
  },
  {
   "cell_type": "code",
   "execution_count": null,
   "metadata": {
    "collapsed": true
   },
   "outputs": [],
   "source": []
  }
 ],
 "metadata": {
  "anaconda-cloud": {},
  "kernelspec": {
   "display_name": "Python [Root]",
   "language": "python",
   "name": "Python [Root]"
  },
  "language_info": {
   "codemirror_mode": {
    "name": "ipython",
    "version": 2
   },
   "file_extension": ".py",
   "mimetype": "text/x-python",
   "name": "python",
   "nbconvert_exporter": "python",
   "pygments_lexer": "ipython2",
   "version": "2.7.12"
  }
 },
 "nbformat": 4,
 "nbformat_minor": 0
}
