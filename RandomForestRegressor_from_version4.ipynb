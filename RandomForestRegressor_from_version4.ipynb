{
 "cells": [
  {
   "cell_type": "code",
   "execution_count": 69,
   "metadata": {
    "collapsed": false
   },
   "outputs": [
    {
     "data": {
      "text/plain": [
       "Index([u'rooms', u'bathrooms', u'exterior', u'hasLift', u'size', u'floor',\n",
       "       u'numPhotos', u'hasVideo', u'longitude', u'latitude', u'price',\n",
       "       u'showAddress', u'hasParkingSpace', u'isParkingSpaceIncludedInPrice',\n",
       "       u'priceperarea', u'type_chalet', u'type_chalet_independantHouse',\n",
       "       u'type_chalet_semidetachedHouse', u'type_chalet_terracedHouse',\n",
       "       u'type_flat', u'type_flat_duplex', u'type_flat_penthouse',\n",
       "       u'type_flat_studio', u'good', u'newdevelopment', u'renew'],\n",
       "      dtype='object')"
      ]
     },
     "execution_count": 69,
     "metadata": {},
     "output_type": "execute_result"
    }
   ],
   "source": [
    "import time\n",
    "import pandas as pd\n",
    "import numpy as np\n",
    "\n",
    "from sklearn.grid_search import GridSearchCV\n",
    "from sklearn.ensemble import RandomForestRegressor\n",
    "from sklearn.linear_model import LinearRegression\n",
    "from sklearn import metrics\n",
    "from sklearn.cross_validation import train_test_split\n",
    "\n",
    "data = pd.read_csv('version4.csv',encoding=\"utf-8\")\n",
    "\n",
    "#preu_park_noinclos\n",
    "#preu_park_noinclos=((data['hasParkingSpace']!=data['isParkingSpaceIncludedInPrice']).astype(float))\n",
    "#data=pd.concat((data,preu_park_noinclos),axis=1)\n",
    "#data.drop(\"isParkingSpaceIncludedInPrice\",axis=1)\n",
    "\n",
    "data.columns"
   ]
  },
  {
   "cell_type": "code",
   "execution_count": 70,
   "metadata": {
    "collapsed": false
   },
   "outputs": [
    {
     "data": {
      "text/plain": [
       "(5385, 26)"
      ]
     },
     "execution_count": 70,
     "metadata": {},
     "output_type": "execute_result"
    }
   ],
   "source": [
    "data.shape"
   ]
  },
  {
   "cell_type": "code",
   "execution_count": 71,
   "metadata": {
    "collapsed": true
   },
   "outputs": [],
   "source": [
    "#Applying price outlier function\n",
    "\n",
    "def price_outlier(data, thresold):\n",
    "    y=data['price']\n",
    "    m = np.median(y)\n",
    "    abs_dev = np.abs(y - m)\n",
    "    y_mad=np.median(abs_dev)\n",
    "    control_var=abs_dev/y_mad\n",
    "    data[\"control_var\"]=control_var\n",
    "    data = data[data['control_var']<thresold]\n",
    "    data = data.drop(['control_var'], axis=1)\n",
    "    return data\n",
    "    \n",
    "data=price_outlier(data, 2.5)"
   ]
  },
  {
   "cell_type": "code",
   "execution_count": 72,
   "metadata": {
    "collapsed": false
   },
   "outputs": [
    {
     "data": {
      "text/plain": [
       "(4601, 26)"
      ]
     },
     "execution_count": 72,
     "metadata": {},
     "output_type": "execute_result"
    }
   ],
   "source": [
    "data.shape"
   ]
  },
  {
   "cell_type": "code",
   "execution_count": 73,
   "metadata": {
    "collapsed": true
   },
   "outputs": [],
   "source": [
    "y =data['price']\n",
    "X = data.drop(['price'], axis=1)\n",
    "#X=np.array(X)\n",
    "#y=np.array(y)\n",
    "\n",
    "X_train, X_test, y_train, y_test = train_test_split(X, y, test_size=0.2)"
   ]
  },
  {
   "cell_type": "code",
   "execution_count": 74,
   "metadata": {
    "collapsed": false
   },
   "outputs": [
    {
     "name": "stdout",
     "output_type": "stream",
     "text": [
      "\n",
      "Best parameters set found on training set:\n",
      "\n",
      "{'n_estimators': 900, 'bootstrap': True}\n",
      "\n",
      "Mean Absolute Error:\n",
      "\n",
      "231.626045645\n",
      "\n",
      "Grid scores\n",
      "\n",
      "[mean: 0.59147, std: 0.03603, params: {'n_estimators': 900, 'bootstrap': True}]\n",
      "\n",
      "The model is trained on the training set. The scores are computed on the testing set.\n",
      "--- 130.253000021 seconds ---\n"
     ]
    }
   ],
   "source": [
    "#Random Forest Regressor\n",
    "#min_samples_leaf estimate\n",
    "\n",
    "start_time = time.time()\n",
    "# Set the parameters by cross-validation\n",
    "#tuned_parameters = [{'bootstrap': [True, False],'criterion': [\"gini\", \"entropy\"],'n_estimators': [10, 50, 100, 200, 500]}]\n",
    "tuned_parameters = [{'bootstrap': [True],\n",
    "                     'n_estimators': [900]}]\n",
    "#scores = ['precision', 'recall']\n",
    "\n",
    "#scores = ['precision']\n",
    "#scores = ['f1']\n",
    "\n",
    "#print \"Tuning hyper-parameters for %s\" % score\n",
    "print\n",
    "clf = GridSearchCV(RandomForestRegressor(random_state=44, \n",
    "                                         n_jobs=-1,\n",
    "                                         max_depth=10,\n",
    "                                         max_features='auto'), \n",
    "                   tuned_parameters, \n",
    "                   cv=10, \n",
    "                   #scoring='neg_mean_absolute_error'\n",
    "                   scoring = 'r2'\n",
    "                   )\n",
    "clf.fit(X_train, y_train)\n",
    "print \"Best parameters set found on training set:\"\n",
    "print\n",
    "print clf.best_params_ \n",
    "print\n",
    "y_true, y_pred = y_test, clf.predict(X_test)\n",
    "print \"Mean Absolute Error:\"\n",
    "print\n",
    "print metrics.mean_absolute_error(y_true, y_pred)\n",
    "print\n",
    "print \"Grid scores\"\n",
    "print\n",
    "print clf.grid_scores_\n",
    "print\n",
    "print \"The model is trained on the training set. The scores are computed on the testing set.\"\n",
    "print(\"--- %s seconds ---\" % (time.time() - start_time))"
   ]
  }
 ],
 "metadata": {
  "anaconda-cloud": {},
  "kernelspec": {
   "display_name": "Python [default]",
   "language": "python",
   "name": "python2"
  },
  "language_info": {
   "codemirror_mode": {
    "name": "ipython",
    "version": 2
   },
   "file_extension": ".py",
   "mimetype": "text/x-python",
   "name": "python",
   "nbconvert_exporter": "python",
   "pygments_lexer": "ipython2",
   "version": "2.7.12"
  }
 },
 "nbformat": 4,
 "nbformat_minor": 1
}
